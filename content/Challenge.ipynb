{
 "metadata": {
  "name": "",
  "signature": "sha256:7d5debfc29fde23984a8a0e73035ae93da141f81fc9855b8b28eb0bccc8c5865"
 },
 "nbformat": 3,
 "nbformat_minor": 0,
 "worksheets": [
  {
   "cells": [
    {
     "cell_type": "markdown",
     "metadata": {},
     "source": [
      "# Challenge\n",
      "\n",
      "### Preparation\n",
      "\n",
      "1. Clone or download the tutorial repository on [GitHub](http://github.com/MISTlab/NotebookTutorial)\n",
      "2. Make sure the data files (`baby-names2.csv`, `brains.csv`) are available\n",
      "3. **(optional)** Create a GitHub repository to hand in the solutions\n",
      "\n",
      "### Expected Outcome\n",
      "\n",
      "* The result should be an IPython Notebook\n",
      "* Send an nbviewer link (via GitHub) or the .ipyn file to [Giovanni Beltrame](mailto:giovanni.beltrame@polymtl.ca)\n",
      "* You can modify this notebook to provide the solutions\n",
      "\n",
      "### The Winner\n",
      "\n",
      "* The first person to send a notebook with all the requested tasks correctly will be declared the winner\n",
      "\n",
      "---\n",
      "\n",
      "## Task 1 - Importing and manipulating data\n",
      "\n",
      "* Load the `baby-names2.csv` from the data directory as a DataFrame and display the first 12 rows as an HTML table"
     ]
    },
    {
     "cell_type": "code",
     "collapsed": false,
     "input": [
      "# Write your code here"
     ],
     "language": "python",
     "metadata": {},
     "outputs": []
    },
    {
     "cell_type": "markdown",
     "metadata": {},
     "source": [
      "* Count how many boy names and how many girl names there are in the dataset"
     ]
    },
    {
     "cell_type": "code",
     "collapsed": false,
     "input": [
      "# Write your code here"
     ],
     "language": "python",
     "metadata": {},
     "outputs": []
    },
    {
     "cell_type": "markdown",
     "metadata": {},
     "source": [
      "* Answer: what was the most popular name (boy or girl) in 1945?"
     ]
    },
    {
     "cell_type": "code",
     "collapsed": false,
     "input": [
      "# Write your code here"
     ],
     "language": "python",
     "metadata": {},
     "outputs": []
    },
    {
     "cell_type": "heading",
     "level": 2,
     "metadata": {},
     "source": [
      "Task 2 - Plotting data"
     ]
    },
    {
     "cell_type": "markdown",
     "metadata": {},
     "source": [
      "* Plot a graph that shows the transition in time of **Alice** from a boy to a girl name"
     ]
    },
    {
     "cell_type": "code",
     "collapsed": false,
     "input": [
      "# Write your code here"
     ],
     "language": "python",
     "metadata": {},
     "outputs": []
    },
    {
     "cell_type": "markdown",
     "metadata": {},
     "source": [
      "* Make an interactive widget that shows the most popular name for a given year (use a slider for the year)"
     ]
    },
    {
     "cell_type": "code",
     "collapsed": false,
     "input": [
      "# Write your code here"
     ],
     "language": "python",
     "metadata": {},
     "outputs": [],
     "prompt_number": 1
    },
    {
     "cell_type": "heading",
     "level": 2,
     "metadata": {},
     "source": [
      "Task 3 - Tell a story (if you made it this far)"
     ]
    },
    {
     "cell_type": "markdown",
     "metadata": {},
     "source": [
      "- Load the `brains.csv` file as a DataFrame using `Mode` as the index label\n",
      "- Fill the missing data with zeros\n",
      "- For each row, replace all columns except `Mode` and `Covariates.x` with one column having as value the sum of all removed columns\n",
      "- Find the Covariate that best correlates with the sum comlumn\n",
      "- Plot the covariate as a histogram using 3 bins\n"
     ]
    },
    {
     "cell_type": "code",
     "collapsed": false,
     "input": [
      "# Write your code here"
     ],
     "language": "python",
     "metadata": {},
     "outputs": []
    }
   ],
   "metadata": {}
  }
 ]
}