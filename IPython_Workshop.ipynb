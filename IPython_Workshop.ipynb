{
 "metadata": {
  "name": "",
  "signature": "sha256:53a198bcf0664d93b54edfc0adc34e936476cdf3b9ed014508a81aa2e9c3d3c2"
 },
 "nbformat": 3,
 "nbformat_minor": 0,
 "worksheets": [
  {
   "cells": [
    {
     "cell_type": "markdown",
     "metadata": {
      "internals": {
       "slide_helper": "subslide_end",
       "slide_type": "subslide"
      },
      "slide_helper": "slide_end",
      "slideshow": {
       "slide_type": "slide"
      }
     },
     "source": [
      " <h1 style=\"font-size: 36pt\">Introductory  IPython Notebook</h1>\n",
      "<p style=\"font-size: 10pt; \">A talk loosely inspired by Damian Avila's IPython-fu</p>\n",
      "\n",
      "<br />\n",
      "\n",
      "<a href=\"http://mistlab.ca\"><img src=\"http://mistlab.ca/images/mistlogo.png\" /></a>\n",
      "\n",
      "<p></p>\n",
      "\n",
      "<i class=\"fa fa-user\" style=\"padding: 10px\"></i> [Giovanni Beltrame](http://www.professeurs.polymtl.ca/giovanni.beltrame/)\n",
      "<i class=\"fa fa-envelope\" style=\"padding: 10px\"></i><a href=\"mailto:info@mistlab.ca\">info@mistlab.info</a>\n",
      "<i class=\"fa fa-twitter\" style=\"padding: 10px\"></i> [@MIST_Lab](http://twitter.com/MIST_Lab)\n",
      "<i class=\"fa fa-github\" style=\"padding: 10px\"></i> [mistlab](https://github.com/mistlab)\n",
      "\n"
     ]
    },
    {
     "cell_type": "markdown",
     "metadata": {
      "internals": {
       "slide_helper": "subslide_end",
       "slide_type": "subslide"
      },
      "slide_helper": "slide_end",
      "slideshow": {
       "slide_type": "slide"
      }
     },
     "source": [
      "<p style=\"text-align: center;\"><i class=\"fa fa-link fa-lg\"> </i> <a href=\"http://github.com/mistlab/NotebookTutorial\">http://github.com/mistlab/NotebookTutorial</a></p>"
     ]
    },
    {
     "cell_type": "heading",
     "level": 1,
     "metadata": {
      "internals": {
       "slide_helper": "subslide_end",
       "slide_type": "subslide"
      },
      "slide_helper": "subslide_end",
      "slideshow": {
       "slide_type": "slide"
      }
     },
     "source": [
      "1. IPython Notebook"
     ]
    },
    {
     "cell_type": "markdown",
     "metadata": {
      "internals": {
       "slide_type": "subslide"
      },
      "slideshow": {
       "slide_type": "subslide"
      }
     },
     "source": [
      "<img src=\"http://ipython.org/_static/IPy_header.png\" />"
     ]
    },
    {
     "cell_type": "markdown",
     "metadata": {
      "internals": {
       "slide_helper": "subslide_end"
      },
      "slide_helper": "subslide_end",
      "slideshow": {
       "slide_type": "-"
      }
     },
     "source": [
      "<p style=\"text-align: center;\"><i class=\"fa fa-link fa-2x\"> <a href=\"http://ipython.org\">http://ipython.org</a></i></p>"
     ]
    },
    {
     "cell_type": "heading",
     "level": 2,
     "metadata": {
      "internals": {
       "slide_type": "subslide"
      },
      "slideshow": {
       "slide_type": "subslide"
      }
     },
     "source": [
      "What is the IPython Notebook?"
     ]
    },
    {
     "cell_type": "markdown",
     "metadata": {
      "internals": {},
      "slideshow": {
       "slide_type": "-"
      }
     },
     "source": [
      ">The goal of IPython is to create a comprehensive environment for interactive and exploratory computing."
     ]
    },
    {
     "cell_type": "heading",
     "level": 2,
     "metadata": {
      "internals": {},
      "slideshow": {
       "slide_type": "-"
      }
     },
     "source": [
      "It's an ensemble of tools to tell **stories**:"
     ]
    },
    {
     "cell_type": "markdown",
     "metadata": {
      "internals": {
       "slide_helper": "subslide_end"
      },
      "slide_helper": "subslide_end",
      "slideshow": {
       "slide_type": "-"
      }
     },
     "source": [
      "* methodologies\n",
      "* processes\n",
      "* analyses"
     ]
    },
    {
     "cell_type": "heading",
     "level": 2,
     "metadata": {
      "internals": {
       "slide_type": "subslide"
      },
      "slideshow": {
       "slide_type": "subslide"
      }
     },
     "source": [
      "Technically speaking, it's a JSON document:"
     ]
    },
    {
     "cell_type": "code",
     "collapsed": true,
     "input": [
      "from IPython.nbformat import current\n",
      "with open('IPython_Workshop.ipynb') as f:\n",
      "    nb = current.read(f,'json')\n",
      "    \n",
      "nb.worksheets[0].cells[18:19]"
     ],
     "language": "python",
     "metadata": {
      "internals": {
       "slide_helper": "subslide_end"
      },
      "slide_helper": "subslide_end",
      "slideshow": {
       "slide_type": "-"
      }
     },
     "outputs": [
      {
       "metadata": {},
       "output_type": "pyout",
       "prompt_number": 32,
       "text": [
        "[{'level': 2,\n",
        "  'source': \"What's needed to make it work?\",\n",
        "  'metadata': {'slideshow': {'slide_type': 'subslide'},\n",
        "   'internals': {'frag_number': 16,\n",
        "    'frag_helper': 'fragment_end',\n",
        "    'slide_type': 'subslide'}},\n",
        "  'cell_type': 'heading'}]"
       ]
      }
     ],
     "prompt_number": 32
    },
    {
     "cell_type": "markdown",
     "metadata": {
      "internals": {
       "slide_helper": "subslide_end",
       "slide_type": "subslide"
      },
      "slide_helper": "subslide_end",
      "slideshow": {
       "slide_type": "subslide"
      }
     },
     "source": [
      "* It generates `.ipynb` files that you can find in the current directory\n",
      "* In each notebook we can put:\n",
      "    * Code\n",
      "    * Text (Markdown)\n",
      "    * Math (LaTeX)\n",
      "    * Imges\n",
      "    * Videos\n",
      "    * Pure HTML\n",
      "* It can be easily versioned\n",
      "* You can view a notebook even without IPython using NBViewer: http://nbviewer.ipython.org/.\n",
      "* It can be easily converted in Slides, HTML, Markdown, reStructured Text, LaTeX and PDF!"
     ]
    },
    {
     "cell_type": "heading",
     "level": 2,
     "metadata": {
      "internals": {
       "slide_type": "subslide"
      },
      "slideshow": {
       "slide_type": "subslide"
      }
     },
     "source": [
      "What are its characteristics?"
     ]
    },
    {
     "cell_type": "markdown",
     "metadata": {
      "internals": {
       "frag_number": 13
      },
      "slideshow": {
       "slide_type": "fragment"
      }
     },
     "source": [
      "* Interactive"
     ]
    },
    {
     "cell_type": "markdown",
     "metadata": {
      "internals": {
       "frag_helper": "fragment_end",
       "frag_number": 14
      },
      "slideshow": {
       "slide_type": "fragment"
      }
     },
     "source": [
      "* Exploratory"
     ]
    },
    {
     "cell_type": "markdown",
     "metadata": {
      "internals": {
       "frag_helper": "fragment_end",
       "frag_number": 15
      },
      "slideshow": {
       "slide_type": "fragment"
      }
     },
     "source": [
      "* Collaborative"
     ]
    },
    {
     "cell_type": "markdown",
     "metadata": {
      "internals": {
       "frag_helper": "fragment_end",
       "frag_number": 16,
       "slide_helper": "subslide_end"
      },
      "slide_helper": "slide_end",
      "slideshow": {
       "slide_type": "fragment"
      }
     },
     "source": [
      "* Open"
     ]
    },
    {
     "cell_type": "heading",
     "level": 1,
     "metadata": {
      "internals": {
       "frag_helper": "fragment_end",
       "frag_number": 16,
       "slide_helper": "subslide_end",
       "slide_type": "subslide"
      },
      "slide_helper": "subslide_end",
      "slideshow": {
       "slide_type": "slide"
      }
     },
     "source": [
      "2. Installing the IPython Notebook"
     ]
    },
    {
     "cell_type": "heading",
     "level": 2,
     "metadata": {
      "internals": {
       "frag_helper": "fragment_end",
       "frag_number": 16,
       "slide_type": "subslide"
      },
      "slideshow": {
       "slide_type": "subslide"
      }
     },
     "source": [
      "What's needed to make it work?"
     ]
    },
    {
     "cell_type": "markdown",
     "metadata": {
      "internals": {
       "frag_helper": "fragment_end",
       "frag_number": 16,
       "slide_helper": "subslide_end"
      },
      "slide_helper": "subslide_end",
      "slideshow": {
       "slide_type": "-"
      }
     },
     "source": [
      "A scary list of items:\n",
      "\n",
      "* Tornado\n",
      "* ZeroMQ/PyZMQ\n",
      "* Jinja2\n",
      "* Chrome, Firefox, Safari (WebSockets, Flexible Box Model)\n",
      "* Matplotlib to show figures\n",
      "\n",
      "In practice:\n",
      "\n",
      "* On Linux and Mac  `pip install ipython[all]` is enough to get it running\n",
      "* Many easy installers for Windows: Canopy, **Anaconda**, Python XY, WinPython, Pyzo\n",
      "* No time for installation? [Wakari](http://wakari.io)"
     ]
    },
    {
     "cell_type": "heading",
     "level": 2,
     "metadata": {
      "internals": {
       "frag_helper": "fragment_end",
       "frag_number": 16,
       "slide_type": "subslide"
      },
      "slideshow": {
       "slide_type": "subslide"
      }
     },
     "source": [
      "How to run it?"
     ]
    },
    {
     "cell_type": "markdown",
     "metadata": {
      "internals": {
       "frag_helper": "fragment_end",
       "frag_number": 16,
       "slide_helper": "subslide_end"
      },
      "slide_helper": "subslide_end",
      "slideshow": {
       "slide_type": "-"
      }
     },
     "source": [
      "* `cd` where your `ipynb` files are, ant type:\n",
      "\n",
      "```bash\n",
      "beltrame@iskander:~$ ipython notebook\n",
      "\n",
      "2015-02-24 17:31:26.672 [NotebookApp] Using existing profile dir: '/home/beltrame/.ipython/profile_default'\n",
      "2015-02-24 17:31:26.677 [NotebookApp] Using MathJax from CDN: https://cdn.mathjax.org/mathjax/latest/MathJax.js\n",
      "2015-02-24 17:31:26.703 [NotebookApp] The port 8888 is already in use, trying another random port.\n",
      "2015-02-24 17:31:26.704 [NotebookApp] Serving notebooks from local directory: /home/beltrame/Documents/Grants/CommonCV\n",
      "2015-02-24 17:31:26.704 [NotebookApp] 0 active kernels \n",
      "2015-02-24 17:31:26.704 [NotebookApp] The IPython Notebook is running at: http://localhost:8888/\n",
      "2015-02-24 17:31:26.704 [NotebookApp] Use Control-C to stop this server and shut down all kernels (twice to skip confirmation).\n",
      "```"
     ]
    },
    {
     "cell_type": "heading",
     "level": 2,
     "metadata": {
      "internals": {
       "frag_helper": "fragment_end",
       "frag_number": 16,
       "slide_type": "subslide"
      },
      "slideshow": {
       "slide_type": "subslide"
      }
     },
     "source": [
      "User Interface"
     ]
    },
    {
     "cell_type": "markdown",
     "metadata": {
      "internals": {
       "frag_helper": "fragment_end",
       "frag_number": 16,
       "slide_helper": "subslide_end"
      },
      "slide_helper": "subslide_end",
      "slideshow": {
       "slide_type": "-"
      }
     },
     "source": [
      "* Dashboard\n",
      "* Menu\n",
      "* Toolbar\n",
      "* Notebook and cells area"
     ]
    },
    {
     "cell_type": "heading",
     "level": 2,
     "metadata": {
      "internals": {
       "frag_helper": "fragment_end",
       "frag_number": 16,
       "slide_type": "subslide"
      },
      "slideshow": {
       "slide_type": "subslide"
      }
     },
     "source": [
      "Cell Types"
     ]
    },
    {
     "cell_type": "markdown",
     "metadata": {
      "internals": {
       "frag_helper": "fragment_end",
       "frag_number": 16,
       "slide_helper": "subslide_end"
      },
      "slide_helper": "subslide_end",
      "slideshow": {
       "slide_type": "-"
      }
     },
     "source": [
      "* Code\n",
      "* Markdown\n",
      "* Raw text\n",
      "* **Heading**"
     ]
    },
    {
     "cell_type": "heading",
     "level": 2,
     "metadata": {
      "internals": {
       "frag_helper": "fragment_end",
       "frag_number": 16,
       "slide_type": "subslide"
      },
      "slideshow": {
       "slide_type": "subslide"
      }
     },
     "source": [
      "Keyboard Shortcuts"
     ]
    },
    {
     "cell_type": "markdown",
     "metadata": {
      "internals": {
       "frag_helper": "fragment_end",
       "frag_number": 16,
       "slide_helper": "subslide_end"
      },
      "slide_helper": "slide_end",
      "slideshow": {
       "slide_type": "-"
      }
     },
     "source": [
      "* `Shift-Enter` to execute a cell\n",
      "* `Ctrl-Enter` to execute a cell and *remain* in the same cell\n",
      "* `Alt-Enter` to execute a cell and insert a new one under the cell that was just *executed*.\n",
      "* All other shortcuts have the same template: `Ctrl-m ?`\n",
      "* `Ctrl-m h` to view the available shortcuts"
     ]
    },
    {
     "cell_type": "heading",
     "level": 1,
     "metadata": {
      "internals": {
       "frag_helper": "fragment_end",
       "frag_number": 16,
       "slide_helper": "subslide_end",
       "slide_type": "subslide"
      },
      "slide_helper": "subslide_end",
      "slideshow": {
       "slide_type": "slide"
      }
     },
     "source": [
      "3. Using the IPython Notebook"
     ]
    },
    {
     "cell_type": "heading",
     "level": 2,
     "metadata": {
      "internals": {
       "frag_helper": "fragment_end",
       "frag_number": 16,
       "slide_type": "subslide"
      },
      "slideshow": {
       "slide_type": "subslide"
      }
     },
     "source": [
      "You can write code and run it:"
     ]
    },
    {
     "cell_type": "markdown",
     "metadata": {
      "internals": {
       "frag_helper": "fragment_end",
       "frag_number": 16
      },
      "slideshow": {
       "slide_type": "-"
      }
     },
     "source": [
      "Classic `Hello World!`:"
     ]
    },
    {
     "cell_type": "code",
     "collapsed": false,
     "input": [
      "print(\"Hello All PLOW Attendees!\")"
     ],
     "language": "python",
     "metadata": {
      "internals": {
       "frag_helper": "fragment_end",
       "frag_number": 16,
       "slide_helper": "subslide_end"
      },
      "slide_helper": "subslide_end",
      "slideshow": {
       "slide_type": "-"
      }
     },
     "outputs": [
      {
       "output_type": "stream",
       "stream": "stdout",
       "text": [
        "Hello All PLOW Attendees!\n"
       ]
      }
     ],
     "prompt_number": 34
    },
    {
     "cell_type": "markdown",
     "metadata": {
      "internals": {
       "frag_helper": "fragment_end",
       "frag_number": 16,
       "slide_type": "subslide"
      },
      "slideshow": {
       "slide_type": "subslide"
      }
     },
     "source": [
      "Object representation in Notebook is easier to read:"
     ]
    },
    {
     "cell_type": "code",
     "collapsed": false,
     "input": [
      "from numpy.random import randn\n",
      "data = {i : randn() for i in range(10)}\n",
      "data"
     ],
     "language": "python",
     "metadata": {
      "internals": {
       "frag_helper": "fragment_end",
       "frag_number": 16
      },
      "slideshow": {
       "slide_type": "-"
      }
     },
     "outputs": [
      {
       "latex": [
        "$$\\begin{Bmatrix}0 : 0.5867239756252757, & 1 : 0.14978523154462853, & 2 : -0.4335433485458452, & 3 : -0.3249001622230029, & 4 : 1.907969938475838, & 5 : -1.4169461485548216, & 6 : -1.115768173815416, & 7 : 0.14687249433978788, & 8 : -0.6554300190280598, & 9 : -1.877729213470412\\end{Bmatrix}$$"
       ],
       "metadata": {},
       "output_type": "pyout",
       "prompt_number": 35,
       "text": [
        "{0: 0.5867239756252757, 1: 0.14978523154462853, 2: -0.4335433485458452, 3: -0.\n",
        "3249001622230029, 4: 1.907969938475838, 5: -1.4169461485548216, 6: -1.11576817\n",
        "3815416, 7: 0.14687249433978788, 8: -0.6554300190280598, 9: -1.877729213470412\n",
        "}"
       ]
      }
     ],
     "prompt_number": 35
    },
    {
     "cell_type": "markdown",
     "metadata": {
      "internals": {
       "frag_helper": "fragment_end",
       "frag_number": 16
      },
      "slideshow": {
       "slide_type": "-"
      }
     },
     "source": [
      "Compared with the following"
     ]
    },
    {
     "cell_type": "code",
     "collapsed": false,
     "input": [
      ">>> from numpy.random import randn\n",
      ">>> data = {i : randn() for i in range(7)}\n",
      ">>> print(data) # A little trick to see the console output"
     ],
     "language": "python",
     "metadata": {
      "internals": {
       "frag_helper": "fragment_end",
       "frag_number": 16,
       "slide_helper": "subslide_end"
      },
      "slide_helper": "subslide_end",
      "slideshow": {
       "slide_type": "-"
      }
     },
     "outputs": [
      {
       "output_type": "stream",
       "stream": "stdout",
       "text": [
        "{0: 0.014805631393902525, 1: 0.8807439970302767, 2: 0.5904604182027526, 3: 0.2483931197035957, 4: -1.4367626620051672, 5: 0.4032729054262041, 6: 0.2999539512635441}\n"
       ]
      }
     ],
     "prompt_number": 36
    },
    {
     "cell_type": "markdown",
     "metadata": {
      "internals": {
       "frag_helper": "fragment_end",
       "frag_number": 16,
       "slide_type": "subslide"
      },
      "slideshow": {
       "slide_type": "subslide"
      }
     },
     "source": [
      "You can try code snippets (from tutorials, for example):"
     ]
    },
    {
     "cell_type": "code",
     "collapsed": false,
     "input": [
      ">>> the_world_is_flat = 1\n",
      ">>> if the_world_is_flat:\n",
      "...     print (\"Hello PLOW attendees!\")"
     ],
     "language": "python",
     "metadata": {
      "internals": {
       "frag_helper": "fragment_end",
       "frag_number": 16
      },
      "slideshow": {
       "slide_type": "-"
      }
     },
     "outputs": [
      {
       "output_type": "stream",
       "stream": "stdout",
       "text": [
        "Hello PLOW attendees!\n"
       ]
      }
     ],
     "prompt_number": 37
    },
    {
     "cell_type": "code",
     "collapsed": false,
     "input": [
      "for x in range(10):\n",
      "    print(x)"
     ],
     "language": "python",
     "metadata": {
      "internals": {
       "frag_helper": "fragment_end",
       "frag_number": 16
      },
      "slideshow": {
       "slide_type": "-"
      }
     },
     "outputs": [
      {
       "output_type": "stream",
       "stream": "stdout",
       "text": [
        "0\n",
        "1\n",
        "2\n",
        "3\n",
        "4\n",
        "5\n",
        "6\n",
        "7\n",
        "8\n",
        "9\n"
       ]
      }
     ],
     "prompt_number": 38
    },
    {
     "cell_type": "code",
     "collapsed": false,
     "input": [
      "In [5]: [x*x for x in range(7)]"
     ],
     "language": "python",
     "metadata": {
      "internals": {
       "frag_helper": "fragment_end",
       "frag_number": 16,
       "slide_helper": "subslide_end"
      },
      "slide_helper": "subslide_end",
      "slideshow": {
       "slide_type": "-"
      }
     },
     "outputs": [
      {
       "latex": [
        "$$\\begin{bmatrix}0, & 1, & 4, & 9, & 16, & 25, & 36\\end{bmatrix}$$"
       ],
       "metadata": {},
       "output_type": "pyout",
       "prompt_number": 39,
       "text": [
        "[0, 1, 4, 9, 16, 25, 36]"
       ]
      }
     ],
     "prompt_number": 39
    },
    {
     "cell_type": "markdown",
     "metadata": {
      "internals": {
       "frag_helper": "fragment_end",
       "frag_number": 16,
       "slide_type": "subslide"
      },
      "slideshow": {
       "slide_type": "subslide"
      }
     },
     "source": [
      "You can see errors and *tracebacks* visually in each cell:"
     ]
    },
    {
     "cell_type": "code",
     "collapsed": false,
     "input": [
      "%run non_existent_file"
     ],
     "language": "python",
     "metadata": {
      "internals": {
       "frag_helper": "fragment_end",
       "frag_number": 16
      },
      "slideshow": {
       "slide_type": "-"
      }
     },
     "outputs": [
      {
       "output_type": "stream",
       "stream": "stderr",
       "text": [
        "ERROR: File `'non_existent_file.py'` not found.\n"
       ]
      }
     ],
     "prompt_number": 40
    },
    {
     "cell_type": "code",
     "collapsed": false,
     "input": [
      "x = 1\n",
      "y = 4\n",
      "z = y/(1-x)\n",
      "z"
     ],
     "language": "python",
     "metadata": {
      "internals": {
       "frag_helper": "fragment_end",
       "frag_number": 16,
       "slide_helper": "subslide_end"
      },
      "slide_helper": "subslide_end",
      "slideshow": {
       "slide_type": "-"
      }
     },
     "outputs": [
      {
       "ename": "ZeroDivisionError",
       "evalue": "division by zero",
       "output_type": "pyerr",
       "traceback": [
        "\u001b[1;31m---------------------------------------------------------------------------\u001b[0m\n\u001b[1;31mZeroDivisionError\u001b[0m                         Traceback (most recent call last)",
        "\u001b[1;32m<ipython-input-41-98cff2bd57d2>\u001b[0m in \u001b[0;36m<module>\u001b[1;34m()\u001b[0m\n\u001b[0;32m      1\u001b[0m \u001b[0mx\u001b[0m \u001b[1;33m=\u001b[0m \u001b[1;36m1\u001b[0m\u001b[1;33m\u001b[0m\u001b[0m\n\u001b[0;32m      2\u001b[0m \u001b[0my\u001b[0m \u001b[1;33m=\u001b[0m \u001b[1;36m4\u001b[0m\u001b[1;33m\u001b[0m\u001b[0m\n\u001b[1;32m----> 3\u001b[1;33m \u001b[0mz\u001b[0m \u001b[1;33m=\u001b[0m \u001b[0my\u001b[0m\u001b[1;33m/\u001b[0m\u001b[1;33m(\u001b[0m\u001b[1;36m1\u001b[0m\u001b[1;33m-\u001b[0m\u001b[0mx\u001b[0m\u001b[1;33m)\u001b[0m\u001b[1;33m\u001b[0m\u001b[0m\n\u001b[0m\u001b[0;32m      4\u001b[0m \u001b[0mz\u001b[0m\u001b[1;33m\u001b[0m\u001b[0m\n",
        "\u001b[1;31mZeroDivisionError\u001b[0m: division by zero"
       ]
      }
     ],
     "prompt_number": 41
    },
    {
     "cell_type": "markdown",
     "metadata": {
      "internals": {
       "frag_helper": "fragment_end",
       "frag_number": 16,
       "slide_type": "subslide"
      },
      "slideshow": {
       "slide_type": "subslide"
      }
     },
     "source": [
      "Other advantages that might make you replace your editor:\n",
      "\n",
      "* Tab completion"
     ]
    },
    {
     "cell_type": "code",
     "collapsed": false,
     "input": [
      "import scipy as sp"
     ],
     "language": "python",
     "metadata": {
      "internals": {
       "frag_helper": "fragment_end",
       "frag_number": 16
      },
      "slideshow": {
       "slide_type": "-"
      }
     },
     "outputs": [],
     "prompt_number": 42
    },
    {
     "cell_type": "code",
     "collapsed": false,
     "input": [
      "sp."
     ],
     "language": "python",
     "metadata": {
      "internals": {
       "frag_helper": "fragment_end",
       "frag_number": 16,
       "slide_helper": "subslide_end"
      },
      "slide_helper": "subslide_end",
      "slideshow": {
       "slide_type": "-"
      }
     },
     "outputs": []
    },
    {
     "cell_type": "markdown",
     "metadata": {
      "internals": {
       "frag_helper": "fragment_end",
       "frag_number": 16,
       "slide_type": "subslide"
      },
      "slideshow": {
       "slide_type": "subslide"
      }
     },
     "source": [
      "* Integrated help"
     ]
    },
    {
     "cell_type": "code",
     "collapsed": false,
     "input": [
      "?"
     ],
     "language": "python",
     "metadata": {
      "internals": {
       "frag_helper": "fragment_end",
       "frag_number": 16
      },
      "slideshow": {
       "slide_type": "-"
      }
     },
     "outputs": [],
     "prompt_number": 43
    },
    {
     "cell_type": "code",
     "collapsed": false,
     "input": [
      "def sum(a, b):\n",
      "    \"\"\"\n",
      "    Demo of a terribly useful function\n",
      "    \"\"\"\n",
      "    return a + b"
     ],
     "language": "python",
     "metadata": {
      "internals": {
       "frag_helper": "fragment_end",
       "frag_number": 16
      },
      "slideshow": {
       "slide_type": "-"
      }
     },
     "outputs": [],
     "prompt_number": 44
    },
    {
     "cell_type": "code",
     "collapsed": false,
     "input": [
      "sum?"
     ],
     "language": "python",
     "metadata": {
      "internals": {
       "frag_helper": "fragment_end",
       "frag_number": 16
      },
      "slideshow": {
       "slide_type": "-"
      }
     },
     "outputs": [],
     "prompt_number": 45
    },
    {
     "cell_type": "code",
     "collapsed": false,
     "input": [
      "sum??"
     ],
     "language": "python",
     "metadata": {
      "internals": {
       "frag_helper": "fragment_end",
       "frag_number": 16,
       "slide_helper": "subslide_end"
      },
      "slide_helper": "subslide_end",
      "slideshow": {
       "slide_type": "-"
      }
     },
     "outputs": [],
     "prompt_number": 46
    },
    {
     "cell_type": "markdown",
     "metadata": {
      "internals": {
       "frag_helper": "fragment_end",
       "frag_number": 16,
       "slide_type": "subslide"
      },
      "slideshow": {
       "slide_type": "subslide"
      }
     },
     "source": [
      "* Interactive shortcuts (aliases, magics)"
     ]
    },
    {
     "cell_type": "code",
     "collapsed": false,
     "input": [
      "%magic"
     ],
     "language": "python",
     "metadata": {
      "internals": {
       "frag_helper": "fragment_end",
       "frag_number": 16
      },
      "slideshow": {
       "slide_type": "-"
      }
     },
     "outputs": [],
     "prompt_number": 47
    },
    {
     "cell_type": "code",
     "collapsed": false,
     "input": [
      "%lsmagic"
     ],
     "language": "python",
     "metadata": {
      "internals": {
       "frag_helper": "fragment_end",
       "frag_number": 16
      },
      "slideshow": {
       "slide_type": "-"
      }
     },
     "outputs": [
      {
       "json": [
        "{\"cell\": {\"SVG\": \"Other\", \"sx\": \"OSMagics\", \"time\": \"ExecutionMagics\", \"!\": \"OSMagics\", \"ruby\": \"Other\", \"sh\": \"Other\", \"pypy\": \"Other\", \"script\": \"ScriptMagics\", \"python3\": \"Other\", \"capture\": \"ExecutionMagics\", \"python2\": \"Other\", \"javascript\": \"DisplayMagics\", \"bash\": \"Other\", \"svg\": \"DisplayMagics\", \"HTML\": \"Other\", \"html\": \"DisplayMagics\", \"perl\": \"Other\", \"debug\": \"ExecutionMagics\", \"system\": \"OSMagics\", \"writefile\": \"OSMagics\", \"prun\": \"ExecutionMagics\", \"file\": \"Other\", \"latex\": \"DisplayMagics\", \"python\": \"Other\", \"timeit\": \"ExecutionMagics\"}, \"line\": {\"popd\": \"OSMagics\", \"unalias\": \"OSMagics\", \"env\": \"OSMagics\", \"pinfo\": \"NamespaceMagics\", \"lsmagic\": \"BasicMagics\", \"pwd\": \"OSMagics\", \"unload_ext\": \"ExtensionMagics\", \"rm\": \"Other\", \"loadpy\": \"CodeMagics\", \"gui\": \"BasicMagics\", \"pastebin\": \"CodeMagics\", \"prun\": \"ExecutionMagics\", \"load\": \"CodeMagics\", \"mkdir\": \"Other\", \"automagic\": \"AutoMagics\", \"cd\": \"OSMagics\", \"load_ext\": \"ExtensionMagics\", \"psearch\": \"NamespaceMagics\", \"sc\": \"OSMagics\", \"system\": \"OSMagics\", \"page\": \"BasicMagics\", \"bookmark\": \"OSMagics\", \"colors\": \"BasicMagics\", \"logstate\": \"LoggingMagics\", \"logon\": \"LoggingMagics\", \"whos\": \"NamespaceMagics\", \"ll\": \"Other\", \"debug\": \"ExecutionMagics\", \"cp\": \"Other\", \"precision\": \"BasicMagics\", \"rerun\": \"HistoryMagics\", \"hist\": \"Other\", \"pushd\": \"OSMagics\", \"quickref\": \"BasicMagics\", \"cat\": \"Other\", \"logstart\": \"LoggingMagics\", \"mv\": \"Other\", \"magic\": \"BasicMagics\", \"ldir\": \"Other\", \"rep\": \"Other\", \"recall\": \"HistoryMagics\", \"logoff\": \"LoggingMagics\", \"install_ext\": \"ExtensionMagics\", \"who\": \"NamespaceMagics\", \"rehashx\": \"OSMagics\", \"qtconsole\": \"KernelMagics\", \"less\": \"KernelMagics\", \"pinfo2\": \"NamespaceMagics\", \"pdb\": \"ExecutionMagics\", \"xmode\": \"BasicMagics\", \"logstop\": \"LoggingMagics\", \"autosave\": \"KernelMagics\", \"psource\": \"NamespaceMagics\", \"dirs\": \"OSMagics\", \"autocall\": \"AutoMagics\", \"reload_ext\": \"ExtensionMagics\", \"lf\": \"Other\", \"pylab\": \"PylabMagics\", \"lk\": \"Other\", \"man\": \"KernelMagics\", \"edit\": \"KernelMagics\", \"install_default_config\": \"DeprecatedMagics\", \"ls\": \"Other\", \"xdel\": \"NamespaceMagics\", \"pycat\": \"OSMagics\", \"lx\": \"Other\", \"pdef\": \"NamespaceMagics\", \"save\": \"CodeMagics\", \"macro\": \"ExecutionMagics\", \"store\": \"StoreMagics\", \"connect_info\": \"KernelMagics\", \"reset\": \"NamespaceMagics\", \"reset_selective\": \"NamespaceMagics\", \"killbgscripts\": \"ScriptMagics\", \"ed\": \"Other\", \"install_profiles\": \"DeprecatedMagics\", \"more\": \"KernelMagics\", \"matplotlib\": \"PylabMagics\", \"sx\": \"OSMagics\", \"rmdir\": \"Other\", \"time\": \"ExecutionMagics\", \"who_ls\": \"NamespaceMagics\", \"pfile\": \"NamespaceMagics\", \"pprint\": \"BasicMagics\", \"dhist\": \"OSMagics\", \"alias\": \"OSMagics\", \"doctest_mode\": \"KernelMagics\", \"run\": \"ExecutionMagics\", \"history\": \"HistoryMagics\", \"pdoc\": \"NamespaceMagics\", \"profile\": \"BasicMagics\", \"notebook\": \"BasicMagics\", \"alias_magic\": \"BasicMagics\", \"clear\": \"KernelMagics\", \"tb\": \"ExecutionMagics\", \"config\": \"ConfigMagics\", \"timeit\": \"ExecutionMagics\"}}"
       ],
       "metadata": {},
       "output_type": "pyout",
       "prompt_number": 48,
       "text": [
        "Available line magics:\n",
        "%alias  %alias_magic  %autocall  %automagic  %autosave  %bookmark  %cat  %cd  %clear  %colors  %config  %connect_info  %cp  %debug  %dhist  %dirs  %doctest_mode  %ed  %edit  %env  %gui  %hist  %history  %install_default_config  %install_ext  %install_profiles  %killbgscripts  %ldir  %less  %lf  %lk  %ll  %load  %load_ext  %loadpy  %logoff  %logon  %logstart  %logstate  %logstop  %ls  %lsmagic  %lx  %macro  %magic  %man  %matplotlib  %mkdir  %more  %mv  %notebook  %page  %pastebin  %pdb  %pdef  %pdoc  %pfile  %pinfo  %pinfo2  %popd  %pprint  %precision  %profile  %prun  %psearch  %psource  %pushd  %pwd  %pycat  %pylab  %qtconsole  %quickref  %recall  %rehashx  %reload_ext  %rep  %rerun  %reset  %reset_selective  %rm  %rmdir  %run  %save  %sc  %store  %sx  %system  %tb  %time  %timeit  %unalias  %unload_ext  %who  %who_ls  %whos  %xdel  %xmode\n",
        "\n",
        "Available cell magics:\n",
        "%%!  %%HTML  %%SVG  %%bash  %%capture  %%debug  %%file  %%html  %%javascript  %%latex  %%perl  %%prun  %%pypy  %%python  %%python2  %%python3  %%ruby  %%script  %%sh  %%svg  %%sx  %%system  %%time  %%timeit  %%writefile\n",
        "\n",
        "Automagic is ON, % prefix IS NOT needed for line magics."
       ]
      }
     ],
     "prompt_number": 48
    },
    {
     "cell_type": "code",
     "collapsed": false,
     "input": [
      "%quickref"
     ],
     "language": "python",
     "metadata": {
      "internals": {
       "frag_helper": "fragment_end",
       "frag_number": 16,
       "slide_helper": "subslide_end"
      },
      "slide_helper": "subslide_end",
      "slideshow": {
       "slide_type": "-"
      }
     },
     "outputs": [],
     "prompt_number": 49
    },
    {
     "cell_type": "markdown",
     "metadata": {
      "internals": {
       "frag_helper": "fragment_end",
       "frag_number": 16,
       "slide_helper": "subslide_end",
       "slide_type": "subslide"
      },
      "slide_helper": "subslide_end",
      "slideshow": {
       "slide_type": "subslide"
      }
     },
     "source": [
      "There are aslo *cell magics* (`%%`) with which one can use Notebook to run code in other languages, such as:\n",
      "\n",
      "* R\n",
      "* Octave\n",
      "* Cython\n",
      "* Bash\n",
      "* Perl\n",
      "* Ruby\n",
      "* etc."
     ]
    },
    {
     "cell_type": "markdown",
     "metadata": {
      "internals": {
       "frag_helper": "fragment_end",
       "frag_number": 16,
       "slide_type": "subslide"
      },
      "slideshow": {
       "slide_type": "subslide"
      }
     },
     "source": [
      "Code can be combined with *magics*, making complex tasks simple:"
     ]
    },
    {
     "cell_type": "code",
     "collapsed": false,
     "input": [
      "%%bash\n",
      "mkdir tmp/\n",
      "touch tmp/my_program.py\n",
      "cat tmp/my_program.py"
     ],
     "language": "python",
     "metadata": {
      "internals": {
       "frag_helper": "fragment_end",
       "frag_number": 16
      },
      "slideshow": {
       "slide_type": "-"
      }
     },
     "outputs": [],
     "prompt_number": 50
    },
    {
     "cell_type": "code",
     "collapsed": false,
     "input": [
      "%%writefile tmp/my_program.py\n",
      "def my_function(x, y):\n",
      "    \"\"\"\n",
      "    Demo\n",
      "    \"\"\"\n",
      "    return x / y\n",
      "\n",
      "x = 4\n",
      "y = 2\n",
      "\n",
      "result = my_function(x, y)"
     ],
     "language": "python",
     "metadata": {
      "internals": {
       "frag_helper": "fragment_end",
       "frag_number": 16
      },
      "slideshow": {
       "slide_type": "-"
      }
     },
     "outputs": [
      {
       "output_type": "stream",
       "stream": "stdout",
       "text": [
        "Overwriting tmp/my_program.py\n"
       ]
      }
     ],
     "prompt_number": 51
    },
    {
     "cell_type": "code",
     "collapsed": false,
     "input": [
      "%run tmp/my_program.py"
     ],
     "language": "python",
     "metadata": {
      "internals": {
       "frag_helper": "fragment_end",
       "frag_number": 16
      },
      "slideshow": {
       "slide_type": "-"
      }
     },
     "outputs": [],
     "prompt_number": 52
    },
    {
     "cell_type": "code",
     "collapsed": false,
     "input": [
      "result"
     ],
     "language": "python",
     "metadata": {
      "internals": {
       "frag_helper": "fragment_end",
       "frag_number": 16,
       "slide_helper": "subslide_end"
      },
      "slide_helper": "subslide_end",
      "slideshow": {
       "slide_type": "-"
      }
     },
     "outputs": [
      {
       "latex": [
        "$$2.0$$"
       ],
       "metadata": {},
       "output_type": "pyout",
       "prompt_number": 53,
       "text": [
        "2.0"
       ]
      }
     ],
     "prompt_number": 53
    },
    {
     "cell_type": "markdown",
     "metadata": {
      "internals": {
       "frag_helper": "fragment_end",
       "frag_number": 16,
       "slide_type": "subslide"
      },
      "slideshow": {
       "slide_type": "subslide"
      }
     },
     "source": [
      "It's easy to interact with the operating system (no more os.system calls and pipes!):"
     ]
    },
    {
     "cell_type": "code",
     "collapsed": false,
     "input": [
      "!pwd"
     ],
     "language": "python",
     "metadata": {
      "internals": {
       "frag_helper": "fragment_end",
       "frag_number": 16
      },
      "slideshow": {
       "slide_type": "-"
      }
     },
     "outputs": [
      {
       "output_type": "stream",
       "stream": "stdout",
       "text": [
        "/home/beltrame/Documents/Presentations/2015/28FEB_PLOW\r\n"
       ]
      }
     ],
     "prompt_number": 54
    },
    {
     "cell_type": "code",
     "collapsed": false,
     "input": [
      "files = !ls\n",
      "print (\"My current directory's files:\")\n",
      "print (files)"
     ],
     "language": "python",
     "metadata": {
      "internals": {
       "frag_helper": "fragment_end",
       "frag_number": 16
      },
      "slideshow": {
       "slide_type": "-"
      }
     },
     "outputs": [
      {
       "output_type": "stream",
       "stream": "stdout",
       "text": [
        "My current directory's files:\n",
        "['content', 'images', 'IPython_Workshop.ipynb', 'tmp']\n"
       ]
      }
     ],
     "prompt_number": 57
    },
    {
     "cell_type": "code",
     "collapsed": false,
     "input": [
      "!echo $files"
     ],
     "language": "python",
     "metadata": {
      "internals": {
       "frag_helper": "fragment_end",
       "frag_number": 16
      },
      "slideshow": {
       "slide_type": "-"
      }
     },
     "outputs": [
      {
       "output_type": "stream",
       "stream": "stdout",
       "text": [
        "[content, images, IPython_Workshop.ipynb, tmp]\r\n"
       ]
      }
     ],
     "prompt_number": 58
    },
    {
     "cell_type": "code",
     "collapsed": false,
     "input": [
      "!echo {files[0].upper()}"
     ],
     "language": "python",
     "metadata": {
      "internals": {
       "frag_helper": "fragment_end",
       "frag_number": 16,
       "slide_helper": "subslide_end"
      },
      "slide_helper": "subslide_end",
      "slideshow": {
       "slide_type": "-"
      }
     },
     "outputs": [
      {
       "output_type": "stream",
       "stream": "stdout",
       "text": [
        "CONTENT\r\n"
       ]
      }
     ],
     "prompt_number": 59
    },
    {
     "cell_type": "markdown",
     "metadata": {
      "internals": {
       "frag_helper": "fragment_end",
       "frag_number": 16,
       "slide_type": "subslide"
      },
      "slideshow": {
       "slide_type": "subslide"
      }
     },
     "source": [
      "We can also generate figures using matplotlib:"
     ]
    },
    {
     "cell_type": "code",
     "collapsed": false,
     "input": [
      "%matplotlib inline\n",
      "import numpy as np\n",
      "import matplotlib.pyplot as plt\n",
      "\n",
      "x = np.linspace(0, 3*np.pi, 500)\n",
      "y = np.sin(x**2)\n",
      "fig = plt.figure()\n",
      "axes = fig.add_axes([0.1, 0.1, 0.8, 0.8])\n",
      "axes.plot(x, y, 'r')\n",
      "axes.set_xlabel('x')\n",
      "axes.set_ylabel('sin x^2')\n",
      "axes.set_title('A simple figure');"
     ],
     "language": "python",
     "metadata": {
      "internals": {
       "frag_helper": "fragment_end",
       "frag_number": 16,
       "slide_helper": "subslide_end"
      },
      "slide_helper": "slide_end",
      "slideshow": {
       "slide_type": "-"
      }
     },
     "outputs": [
      {
       "metadata": {},
       "output_type": "display_data",
       "png": "[encoded data removed]",
       "text": [
        "<matplotlib.figure.Figure at 0x7f5a80376bd0>"
       ]
      }
     ],
     "prompt_number": 60
    },
    {
     "cell_type": "heading",
     "level": 2,
     "metadata": {
      "internals": {
       "frag_helper": "fragment_end",
       "frag_number": 16,
       "slide_type": "subslide"
      },
      "slideshow": {
       "slide_type": "slide"
      }
     },
     "source": [
      "Document your workflow"
     ]
    },
    {
     "cell_type": "markdown",
     "metadata": {
      "internals": {
       "frag_helper": "fragment_end",
       "frag_number": 16,
       "slide_helper": "subslide_end"
      },
      "slide_helper": "subslide_end",
      "slideshow": {
       "slide_type": "-"
      }
     },
     "source": [
      "Text can be rendered via `Markdown`, for example you can use *italics*, **bold** or introduce [links](http://www.google.com).\n",
      "\n",
      "You can easily make numbered and bulleted lists:\n",
      "\n",
      "1. First\n",
      "2. Second\n",
      "3. Third\n",
      "\n",
      "\n",
      "* car\n",
      "* bicycle\n",
      "* motorbike"
     ]
    },
    {
     "cell_type": "markdown",
     "metadata": {
      "internals": {
       "frag_helper": "fragment_end",
       "frag_number": 16,
       "slide_helper": "subslide_end",
       "slide_type": "subslide"
      },
      "slide_helper": "subslide_end",
      "slideshow": {
       "slide_type": "subslide"
      }
     },
     "source": [
      "You can embed demonstration code, in Python for example:\n",
      "```python\n",
      "    def f(x):\n",
      "        \"\"\"a docstring\"\"\"\n",
      "        return x**2\n",
      "```\n",
      "Or in other languages:\n",
      "```javascript\n",
      "    if (i=0; i<n; i++) {\n",
      "      printf(\"hello %d\\n\", i);\n",
      "      x += 4;\n",
      "    }\n",
      "```    "
     ]
    },
    {
     "cell_type": "markdown",
     "metadata": {
      "internals": {
       "frag_helper": "fragment_end",
       "frag_number": 16,
       "slide_helper": "subslide_end",
       "slide_type": "subslide"
      },
      "slide_helper": "slide_end",
      "slideshow": {
       "slide_type": "subslide"
      }
     },
     "source": [
      "IPython Notebook supports MathJax, so you can use LaTeX-like math `inline`: \n",
      "$e^{i\\pi} + 1 = 0$ or as `blocks`:\n",
      "\n",
      "$$e^x=\\sum_{i=0}^\\infty \\frac{1}{i!}x^i$$"
     ]
    },
    {
     "cell_type": "heading",
     "level": 3,
     "metadata": {
      "internals": {
       "frag_helper": "fragment_end",
       "frag_number": 16,
       "slide_type": "subslide"
      },
      "slideshow": {
       "slide_type": "slide"
      }
     },
     "source": [
      "If the browser can show it, so can Notebook!"
     ]
    },
    {
     "cell_type": "code",
     "collapsed": false,
     "input": [
      "from IPython.display import display"
     ],
     "language": "python",
     "metadata": {
      "internals": {
       "frag_helper": "fragment_end",
       "frag_number": 16,
       "slide_helper": "subslide_end"
      },
      "slide_helper": "subslide_end",
      "slideshow": {
       "slide_type": "-"
      }
     },
     "outputs": [],
     "prompt_number": 61
    },
    {
     "cell_type": "markdown",
     "metadata": {
      "internals": {
       "frag_helper": "fragment_end",
       "frag_number": 16,
       "slide_type": "subslide"
      },
      "slideshow": {
       "slide_type": "subslide"
      }
     },
     "source": [
      "* Images:"
     ]
    },
    {
     "cell_type": "code",
     "collapsed": false,
     "input": [
      "from IPython.display import Image\n",
      "Image(filename='images/mistlogo.png') "
     ],
     "language": "python",
     "metadata": {
      "internals": {
       "frag_helper": "fragment_end",
       "frag_number": 16
      },
      "slideshow": {
       "slide_type": "-"
      }
     },
     "outputs": [
      {
       "metadata": {},
       "output_type": "pyout",
       "png": "[encoded data removed]",
       "prompt_number": 62,
       "text": [
        "<IPython.core.display.Image at 0x7f5a802f72d0>"
       ]
      }
     ],
     "prompt_number": 62
    },
    {
     "cell_type": "code",
     "collapsed": false,
     "input": [
      "from IPython.display import SVG\n",
      "SVG(filename='images/mistlogo.svg')"
     ],
     "language": "python",
     "metadata": {
      "internals": {
       "frag_helper": "fragment_end",
       "frag_number": 16,
       "slide_helper": "subslide_end"
      },
      "slide_helper": "subslide_end",
      "slideshow": {
       "slide_type": "-"
      }
     },
     "outputs": [
      {
       "metadata": {},
       "output_type": "pyout",
       "prompt_number": 63,
       "svg": [
        "<svg height=\"132.5\" id=\"svg2\" inkscape:version=\"0.48.4 r9939\" sodipodi:docname=\"mistlogo.svg\" version=\"1.1\" width=\"308.75\" xml:space=\"preserve\" xmlns=\"http://www.w3.org/2000/svg\" xmlns:cc=\"http://creativecommons.org/ns#\" xmlns:dc=\"http://purl.org/dc/elements/1.1/\" xmlns:inkscape=\"http://www.inkscape.org/namespaces/inkscape\" xmlns:rdf=\"http://www.w3.org/1999/02/22-rdf-syntax-ns#\" xmlns:sodipodi=\"http://sodipodi.sourceforge.net/DTD/sodipodi-0.dtd\" xmlns:svg=\"http://www.w3.org/2000/svg\" xmlns:xlink=\"http://www.w3.org/1999/xlink\"><metadata id=\"metadata8\"><rdf:RDF><cc:Work rdf:about=\"\"><dc:format>image/svg+xml</dc:format><dc:type rdf:resource=\"http://purl.org/dc/dcmitype/StillImage\"/><dc:title/></cc:Work></rdf:RDF></metadata><defs id=\"defs6\"><clipPath clipPathUnits=\"userSpaceOnUse\" id=\"clipPath16\"><path d=\"m 0,0 255.11812,0 0,141.73228 L 0,141.73228 0,0 z\" id=\"path18\"/></clipPath><clipPath clipPathUnits=\"userSpaceOnUse\" id=\"clipPath20\"><path d=\"m 88.551,108.56 -15.36,-41.925 -15.472,41.925 -11.321,0 0,-79.816 12.555,0 0,49.215 10.649,-32.176 6.953,0 10.875,32.734 0,-49.773 12.554,0 0,79.816 -11.433,0 z\" id=\"path22\"/></clipPath><linearGradient gradientTransform=\"matrix(0,79.81904,79.81904,0,73.190369,28.74339)\" gradientUnits=\"userSpaceOnUse\" id=\"linearGradient24\" spreadMethod=\"pad\" x1=\"0\" x2=\"1\" y1=\"0\" y2=\"0\"><stop id=\"stop26\" offset=\"0\" style=\"stop-opacity:1;stop-color:#dbe7f0\"/><stop id=\"stop28\" offset=\"1\" style=\"stop-opacity:1;stop-color:#05507d\"/></linearGradient><clipPath clipPathUnits=\"userSpaceOnUse\" id=\"clipPath30\"><path d=\"m 143.816,104.416 c -4.371,-3.926 -6.5,-9.754 -6.5,-16.93 0,-12.332 3.028,-16.703 11.098,-20.066 l 9.527,-3.922 c 6.164,-2.469 7.512,-4.598 7.512,-13.117 0,-4.262 -0.449,-6.953 -2.129,-8.856 -1.234,-1.461 -3.14,-2.242 -6.054,-2.242 -2.805,0 -4.711,0.895 -5.832,2.129 -1.793,2.016 -2.243,4.707 -2.243,8.969 l -12.554,0 c 0,-8.41 1.347,-13.34 5.16,-17.153 3.359,-3.363 8.519,-5.269 15.469,-5.269 7.062,0 12.332,2.129 15.582,5.269 4.035,3.922 5.156,9.418 5.156,17.602 0,13.449 -2.578,18.496 -12.106,22.418 l -9.418,3.812 c -5.605,2.243 -6.613,4.262 -6.613,10.762 0,3.477 0.672,6.168 2.129,7.848 1.234,1.347 2.801,2.242 5.383,2.242 2.687,0 4.48,-0.895 5.601,-2.352 1.684,-2.132 1.907,-4.933 1.907,-8.523 l 12.558,0 c 0,7.625 -1.457,13.344 -5.605,17.379 -3.254,3.137 -7.961,4.82 -14.352,4.82 -5.715,0 -10.199,-1.793 -13.676,-4.82\" id=\"path32\"/></clipPath><linearGradient gradientTransform=\"matrix(0,81.27617,81.27617,0,157.32565,27.958383)\" gradientUnits=\"userSpaceOnUse\" id=\"linearGradient34\" spreadMethod=\"pad\" x1=\"0\" x2=\"1\" y1=\"0\" y2=\"0\"><stop id=\"stop36\" offset=\"0\" style=\"stop-opacity:1;stop-color:#dbe7f0\"/><stop id=\"stop38\" offset=\"1\" style=\"stop-opacity:1;stop-color:#05507d\"/></linearGradient><clipPath clipPathUnits=\"userSpaceOnUse\" id=\"clipPath40\"><path d=\"m 184.512,108.56 0,-11.32 13.34,0 0,-68.496 12.554,0 0,68.496 13.453,0 0,11.32 -39.347,0 z\" id=\"path42\"/></clipPath><linearGradient gradientTransform=\"matrix(0,79.81904,79.81904,0,204.1854,28.74339)\" gradientUnits=\"userSpaceOnUse\" id=\"linearGradient44\" spreadMethod=\"pad\" x1=\"0\" x2=\"1\" y1=\"0\" y2=\"0\"><stop id=\"stop46\" offset=\"0\" style=\"stop-opacity:1;stop-color:#dbe7f0\"/><stop id=\"stop48\" offset=\"1\" style=\"stop-opacity:1;stop-color:#05507d\"/></linearGradient><clipPath clipPathUnits=\"userSpaceOnUse\" id=\"clipPath50\"><path d=\"m 113.02,84.599 c 1.792,1.575 4.136,2.536 6.707,2.536 2.562,0 4.898,-0.965 6.683,-2.547 -1.262,8.918 -3.523,17.605 -6.695,26.008 -3.172,-8.399 -5.434,-17.082 -6.695,-25.997 m -0.68,-5.816 c -0.328,-3.594 -0.5,-7.223 -0.5,-10.883 0,-10 1.258,-19.777 3.652,-29.25 -4.308,-1.691 -7.363,-5.875 -7.363,-10.785 0,-0.914 0.117,-1.801 0.316,-2.656 0.985,4.187 4.235,7.5 8.387,8.562 0.859,-2.882 1.816,-5.742 2.883,-8.562 1.066,2.82 2.023,5.68 2.879,8.562 4.156,-1.062 7.406,-4.375 8.39,-8.562 0.2,0.855 0.317,1.742 0.317,2.656 0,4.91 -3.055,9.094 -7.363,10.785 2.39,9.473 3.648,19.25 3.648,29.25 0,3.61 -0.164,7.192 -0.488,10.739 -0.75,3.39 -3.77,5.933 -7.371,5.933 -3.575,0 -6.575,-2.473 -7.387,-5.789\" id=\"path52\"/></clipPath><linearGradient gradientTransform=\"matrix(0,85.386103,85.386103,0,119.71406,25.208912)\" gradientUnits=\"userSpaceOnUse\" id=\"linearGradient54\" spreadMethod=\"pad\" x1=\"0\" x2=\"1\" y1=\"0\" y2=\"0\"><stop id=\"stop56\" offset=\"0\" style=\"stop-opacity:1;stop-color:#dbe7f0\"/><stop id=\"stop58\" offset=\"1\" style=\"stop-opacity:1;stop-color:#05507d\"/></linearGradient><linearGradient gradientTransform=\"matrix(0,79.81904,79.81904,0,73.190369,28.74339)\" gradientUnits=\"userSpaceOnUse\" id=\"linearGradient3131\" inkscape:collect=\"always\" spreadMethod=\"pad\" x1=\"0\" x2=\"1\" xlink:href=\"#linearGradient24\" y1=\"0\" y2=\"0\"/><linearGradient gradientTransform=\"matrix(0,81.27617,81.27617,0,157.32565,27.958383)\" gradientUnits=\"userSpaceOnUse\" id=\"linearGradient3133\" inkscape:collect=\"always\" spreadMethod=\"pad\" x1=\"0\" x2=\"1\" xlink:href=\"#linearGradient34\" y1=\"0\" y2=\"0\"/><linearGradient gradientTransform=\"matrix(0,79.81904,79.81904,0,204.1854,28.74339)\" gradientUnits=\"userSpaceOnUse\" id=\"linearGradient3135\" inkscape:collect=\"always\" spreadMethod=\"pad\" x1=\"0\" x2=\"1\" xlink:href=\"#linearGradient44\" y1=\"0\" y2=\"0\"/><linearGradient gradientTransform=\"matrix(0,85.386103,85.386103,0,119.71406,25.208912)\" gradientUnits=\"userSpaceOnUse\" id=\"linearGradient3137\" inkscape:collect=\"always\" spreadMethod=\"pad\" x1=\"0\" x2=\"1\" xlink:href=\"#linearGradient54\" y1=\"0\" y2=\"0\"/><linearGradient gradientTransform=\"matrix(0,79.81904,79.81904,0,73.190369,28.74339)\" gradientUnits=\"userSpaceOnUse\" id=\"linearGradient3195\" inkscape:collect=\"always\" spreadMethod=\"pad\" x1=\"0\" x2=\"1\" xlink:href=\"#linearGradient24\" y1=\"0\" y2=\"0\"/><linearGradient gradientTransform=\"matrix(0,81.27617,81.27617,0,157.32565,27.958383)\" gradientUnits=\"userSpaceOnUse\" id=\"linearGradient3197\" inkscape:collect=\"always\" spreadMethod=\"pad\" x1=\"0\" x2=\"1\" xlink:href=\"#linearGradient34\" y1=\"0\" y2=\"0\"/><linearGradient gradientTransform=\"matrix(0,79.81904,79.81904,0,204.1854,28.74339)\" gradientUnits=\"userSpaceOnUse\" id=\"linearGradient3199\" inkscape:collect=\"always\" spreadMethod=\"pad\" x1=\"0\" x2=\"1\" xlink:href=\"#linearGradient44\" y1=\"0\" y2=\"0\"/><linearGradient gradientTransform=\"matrix(0,85.386103,85.386103,0,119.71406,25.208912)\" gradientUnits=\"userSpaceOnUse\" id=\"linearGradient3201\" inkscape:collect=\"always\" spreadMethod=\"pad\" x1=\"0\" x2=\"1\" xlink:href=\"#linearGradient54\" y1=\"0\" y2=\"0\"/></defs><sodipodi:namedview bordercolor=\"#666666\" borderopacity=\"1\" gridtolerance=\"10\" guidetolerance=\"10\" id=\"namedview4\" inkscape:current-layer=\"g12\" inkscape:cx=\"128.3415\" inkscape:cy=\"57.804567\" inkscape:pageopacity=\"0\" inkscape:pageshadow=\"2\" inkscape:window-height=\"1030\" inkscape:window-maximized=\"1\" inkscape:window-width=\"1918\" inkscape:window-x=\"0\" inkscape:window-y=\"0\" inkscape:zoom=\"3.8089069\" objecttolerance=\"10\" pagecolor=\"#ffffff\" showgrid=\"false\"/><g id=\"g10\" inkscape:groupmode=\"layer\" inkscape:label=\"mistlogo\" transform=\"matrix(1.25,0,0,-1.25,0,132.5)\"><g id=\"g12\" transform=\"translate(-6,-25)\"><g id=\"g14\"/><path d=\"M 154.15625 69.125 C 139.88707 69.125 125.87392 70.1684 112.15625 72.15625 L 112.15625 77.0625 C 125.90598 75.286369 139.92277 74.375 154.15625 74.375 C 209.36625 74.375 261.36875 88.17625 306.90625 112.46875 C 262.52125 85.0025 210.18625 69.125 154.15625 69.125 z M 59.5625 84.875 C 39.059248 91.934668 19.578986 101.24247 1.4375 112.46875 C 19.831725 102.65506 39.27448 94.542713 59.5625 88.375 L 59.5625 84.875 z \" id=\"path66\" style=\"fill:#d91920;fill-opacity:1;fill-rule:nonzero;stroke:none\" transform=\"matrix(0.8,0,0,-0.8,6,131)\"/><path d=\"M 154.15625 67.875 C 139.13089 67.875 124.20664 69.013775 109.5 71.28125 L 109.5 73.84375 C 124.20891 71.554975 139.12448 70.375 154.15625 70.375 C 193.2475 70.375 231.68375 78.215 267.25 93.3125 C 231.22 80.03625 192.78375 73.125 154.15625 73.125 C 139.19565 73.125 124.27246 74.208232 109.5 76.25 L 109.5 78.75 C 124.27181 76.692153 139.19188 75.625 154.15625 75.625 C 207.17875 75.625 259.79375 88.7475 306.3125 113.5625 L 307.5625 111.40625 C 261.54625 82.935 208.4925 67.875 154.15625 67.875 z M 56.90625 84.53125 C 37.376257 91.428457 18.545735 100.41378 0.78125 111.40625 L 2.03125 113.5625 C 19.561085 104.21037 37.948734 96.515291 56.90625 90.5625 L 56.90625 87.96875 C 51.593289 89.623077 46.313098 91.389287 41.09375 93.3125 C 46.303448 91.101349 51.581468 89.08607 56.90625 87.1875 L 56.90625 84.53125 z \" id=\"path68\" style=\"fill:#d91920;fill-opacity:1;fill-rule:nonzero;stroke:none\" transform=\"matrix(0.8,0,0,-0.8,6,131)\"/><path d=\"m 109.551,76.986 2.566,0 c 0,0.621 0.082,1.219 0.223,1.797 0.18,1.949 0.406,3.887 0.68,5.816 -2.122,-1.859 -3.469,-4.578 -3.469,-7.613\" id=\"path70\" inkscape:connector-curvature=\"0\" style=\"fill:#ffffff;fill-opacity:1;fill-rule:nonzero;stroke:none\"/><g id=\"g74\"><g clip-path=\"url(#clipPath20)\" id=\"g76\"><g id=\"g78\"><path d=\"m 88.551,108.56 -15.36,-41.925 -15.472,41.925 -11.321,0 0,-79.816 12.555,0 0,49.215 10.649,-32.176 6.953,0 10.875,32.734 0,-49.773 12.554,0 0,79.816 -11.433,0 z\" id=\"path80\" inkscape:connector-curvature=\"0\" style=\"fill:url(#linearGradient3195);stroke:none\"/></g></g></g><g id=\"g82\"><g clip-path=\"url(#clipPath30)\" id=\"g84\"><g id=\"g86\"><path d=\"m 143.816,104.416 c -4.371,-3.926 -6.5,-9.754 -6.5,-16.93 0,-12.332 3.028,-16.703 11.098,-20.066 l 9.527,-3.922 c 6.164,-2.469 7.512,-4.598 7.512,-13.117 0,-4.262 -0.449,-6.953 -2.129,-8.856 -1.234,-1.461 -3.14,-2.242 -6.054,-2.242 -2.805,0 -4.711,0.895 -5.832,2.129 -1.793,2.016 -2.243,4.707 -2.243,8.969 l -12.554,0 c 0,-8.41 1.347,-13.34 5.16,-17.153 3.359,-3.363 8.519,-5.269 15.469,-5.269 7.062,0 12.332,2.129 15.582,5.269 4.035,3.922 5.156,9.418 5.156,17.602 0,13.449 -2.578,18.496 -12.106,22.418 l -9.418,3.812 c -5.605,2.243 -6.613,4.262 -6.613,10.762 0,3.477 0.672,6.168 2.129,7.848 1.234,1.347 2.801,2.242 5.383,2.242 2.687,0 4.48,-0.895 5.601,-2.352 1.684,-2.132 1.907,-4.933 1.907,-8.523 l 12.558,0 c 0,7.625 -1.457,13.344 -5.605,17.379 -3.254,3.137 -7.961,4.82 -14.352,4.82 -5.715,0 -10.199,-1.793 -13.676,-4.82\" id=\"path88\" inkscape:connector-curvature=\"0\" style=\"fill:url(#linearGradient3197);stroke:none\"/></g></g></g><g id=\"g90\"><g clip-path=\"url(#clipPath40)\" id=\"g92\"><g id=\"g94\"><path d=\"m 184.512,108.56 0,-11.32 13.34,0 0,-68.496 12.554,0 0,68.496 13.453,0 0,11.32 -39.347,0 z\" id=\"path96\" inkscape:connector-curvature=\"0\" style=\"fill:url(#linearGradient3199);stroke:none\"/></g></g></g><g id=\"g98\"><g clip-path=\"url(#clipPath50)\" id=\"g100\"><g id=\"g102\"><path d=\"m 113.02,84.599 c 1.792,1.575 4.136,2.536 6.707,2.536 2.562,0 4.898,-0.965 6.683,-2.547 -1.262,8.918 -3.523,17.605 -6.695,26.008 -3.172,-8.399 -5.434,-17.082 -6.695,-25.997 m -0.68,-5.816 c -0.328,-3.594 -0.5,-7.223 -0.5,-10.883 0,-10 1.258,-19.777 3.652,-29.25 -4.308,-1.691 -7.363,-5.875 -7.363,-10.785 0,-0.914 0.117,-1.801 0.316,-2.656 0.985,4.187 4.235,7.5 8.387,8.562 0.859,-2.882 1.816,-5.742 2.883,-8.562 1.066,2.82 2.023,5.68 2.879,8.562 4.156,-1.062 7.406,-4.375 8.39,-8.562 0.2,0.855 0.317,1.742 0.317,2.656 0,4.91 -3.055,9.094 -7.363,10.785 2.39,9.473 3.648,19.25 3.648,29.25 0,3.61 -0.164,7.192 -0.488,10.739 -0.75,3.39 -3.77,5.933 -7.371,5.933 -3.575,0 -6.575,-2.473 -7.387,-5.789\" id=\"path104\" inkscape:connector-curvature=\"0\" style=\"fill:url(#linearGradient3201);stroke:none\"/></g></g></g><path d=\"m 117.27,123.299 -7.903,0 6.395,-4.645 -2.446,-7.519 6.399,4.644 6.394,-4.644 -2.441,7.519 6.394,4.645 -7.906,0 -2.441,7.519 -2.445,-7.519 z\" id=\"path106\" inkscape:connector-curvature=\"0\" style=\"fill:#d91920;fill-opacity:1;fill-rule:nonzero;stroke:none\"/></g></g></svg>"
       ],
       "text": [
        "<IPython.core.display.SVG at 0x7f5a802f7f10>"
       ]
      }
     ],
     "prompt_number": 63
    },
    {
     "cell_type": "markdown",
     "metadata": {
      "internals": {
       "frag_helper": "fragment_end",
       "frag_number": 16,
       "slide_type": "subslide"
      },
      "slideshow": {
       "slide_type": "subslide"
      }
     },
     "source": [
      "* Video:"
     ]
    },
    {
     "cell_type": "markdown",
     "metadata": {
      "internals": {
       "frag_helper": "fragment_end",
       "frag_number": 16
      },
      "slideshow": {
       "slide_type": "-"
      }
     },
     "source": [
      "You can embed Youtube, Vimeo, etc..."
     ]
    },
    {
     "cell_type": "code",
     "collapsed": false,
     "input": [
      "from IPython.display import YouTubeVideo\n",
      "YouTubeVideo('k7uFAgHQ92M')"
     ],
     "language": "python",
     "metadata": {
      "internals": {
       "frag_helper": "fragment_end",
       "frag_number": 16,
       "slide_helper": "subslide_end"
      },
      "slide_helper": "subslide_end",
      "slideshow": {
       "slide_type": "-"
      }
     },
     "outputs": [
      {
       "html": [
        "\n",
        "        <iframe\n",
        "            width=\"400\"\n",
        "            height=300\"\n",
        "            src=\"https://www.youtube.com/embed/k7uFAgHQ92M\"\n",
        "            frameborder=\"0\"\n",
        "            allowfullscreen\n",
        "        ></iframe>\n",
        "        "
       ],
       "metadata": {},
       "output_type": "pyout",
       "prompt_number": 64,
       "text": [
        "<IPython.lib.display.YouTubeVideo at 0x7f5a753ada10>"
       ]
      }
     ],
     "prompt_number": 64
    },
    {
     "cell_type": "markdown",
     "metadata": {
      "internals": {
       "frag_helper": "fragment_end",
       "frag_number": 16,
       "slide_type": "subslide"
      },
      "slideshow": {
       "slide_type": "subslide"
      }
     },
     "source": [
      "* HTML"
     ]
    },
    {
     "cell_type": "code",
     "collapsed": false,
     "input": [
      "from IPython.display import HTML,display\n",
      "\n",
      "s = \"\"\"<table>\n",
      "<tr>\n",
      "<th>Header 1</th>\n",
      "<th>Header 2</th>\n",
      "</tr>\n",
      "<tr>\n",
      "<td>row 1, cell 1</td>\n",
      "<td>row 1, cell 2</td>\n",
      "</tr>\n",
      "<tr>\n",
      "<td>row 2, cell 1</td>\n",
      "<td>row 2, cell 2</td>\n",
      "</tr>\n",
      "</table>\"\"\""
     ],
     "language": "python",
     "metadata": {
      "internals": {
       "frag_helper": "fragment_end",
       "frag_number": 16
      },
      "slideshow": {
       "slide_type": "-"
      }
     },
     "outputs": [],
     "prompt_number": 65
    },
    {
     "cell_type": "code",
     "collapsed": false,
     "input": [
      "h = HTML(s)\n",
      "display(h)"
     ],
     "language": "python",
     "metadata": {
      "internals": {
       "frag_helper": "fragment_end",
       "frag_number": 16,
       "slide_helper": "subslide_end"
      },
      "slide_helper": "subslide_end",
      "slideshow": {
       "slide_type": "-"
      }
     },
     "outputs": [
      {
       "html": [
        "<table>\n",
        "<tr>\n",
        "<th>Header 1</th>\n",
        "<th>Header 2</th>\n",
        "</tr>\n",
        "<tr>\n",
        "<td>row 1, cell 1</td>\n",
        "<td>row 1, cell 2</td>\n",
        "</tr>\n",
        "<tr>\n",
        "<td>row 2, cell 1</td>\n",
        "<td>row 2, cell 2</td>\n",
        "</tr>\n",
        "</table>"
       ],
       "metadata": {},
       "output_type": "display_data",
       "text": [
        "<IPython.core.display.HTML at 0x7f5a802e5550>"
       ]
      }
     ],
     "prompt_number": 66
    },
    {
     "cell_type": "markdown",
     "metadata": {
      "internals": {
       "frag_helper": "fragment_end",
       "frag_number": 16,
       "slide_type": "subslide"
      },
      "slideshow": {
       "slide_type": "subslide"
      }
     },
     "source": [
      "* Websites:"
     ]
    },
    {
     "cell_type": "code",
     "collapsed": false,
     "input": [
      "from IPython.display import IFrame\n",
      "IFrame('http://www.professeurs.polymtl.ca/giovanni.beltrame/', 800, 600)"
     ],
     "language": "python",
     "metadata": {
      "internals": {
       "frag_helper": "fragment_end",
       "frag_number": 16,
       "slide_helper": "subslide_end"
      },
      "slide_helper": "subslide_end",
      "slideshow": {
       "slide_type": "-"
      }
     },
     "outputs": [
      {
       "html": [
        "\n",
        "        <iframe\n",
        "            width=\"800\"\n",
        "            height=600\"\n",
        "            src=\"http://www.professeurs.polymtl.ca/giovanni.beltrame/\"\n",
        "            frameborder=\"0\"\n",
        "            allowfullscreen\n",
        "        ></iframe>\n",
        "        "
       ],
       "metadata": {},
       "output_type": "pyout",
       "prompt_number": 67,
       "text": [
        "<IPython.lib.display.IFrame at 0x7f5a753ad950>"
       ]
      }
     ],
     "prompt_number": 67
    },
    {
     "cell_type": "markdown",
     "metadata": {
      "internals": {
       "frag_helper": "fragment_end",
       "frag_number": 16,
       "slide_type": "subslide"
      },
      "slideshow": {
       "slide_type": "subslide"
      }
     },
     "source": [
      "* Music:"
     ]
    },
    {
     "cell_type": "code",
     "collapsed": false,
     "input": [
      "from IPython.display import HTML\n",
      "h = HTML(\"\"\"<iframe width=\"100%\" height=\"166\" scrolling=\"no\" frameborder=\"no\" src=\"https://w.soundcloud.com/player/?url=http%3A%2F%2Fapi.soundcloud.com%2Ftracks%2F94543639\"></iframe>\"\"\")\n",
      "display(h)"
     ],
     "language": "python",
     "metadata": {
      "internals": {
       "frag_helper": "fragment_end",
       "frag_number": 16,
       "slide_helper": "subslide_end"
      },
      "slide_helper": "slide_end",
      "slideshow": {
       "slide_type": "-"
      }
     },
     "outputs": [
      {
       "html": [
        "<iframe width=\"100%\" height=\"166\" scrolling=\"no\" frameborder=\"no\" src=\"https://w.soundcloud.com/player/?url=http%3A%2F%2Fapi.soundcloud.com%2Ftracks%2F94543639\"></iframe>"
       ],
       "metadata": {},
       "output_type": "display_data",
       "text": [
        "<IPython.core.display.HTML at 0x7f5a753ade10>"
       ]
      }
     ],
     "prompt_number": 68
    },
    {
     "cell_type": "heading",
     "level": 2,
     "metadata": {
      "internals": {
       "frag_helper": "fragment_end",
       "frag_number": 16,
       "slide_type": "subslide"
      },
      "slideshow": {
       "slide_type": "slide"
      }
     },
     "source": [
      "Loading Remote Code"
     ]
    },
    {
     "cell_type": "code",
     "collapsed": false,
     "input": [
      "%load http://matplotlib.sourceforge.net/mpl_examples/api/collections_demo.py"
     ],
     "language": "python",
     "metadata": {
      "internals": {
       "frag_helper": "fragment_end",
       "frag_number": 16,
       "slide_helper": "subslide_end"
      },
      "slide_helper": "subslide_end",
      "slideshow": {
       "slide_type": "-"
      }
     },
     "outputs": [],
     "prompt_number": 69
    },
    {
     "cell_type": "code",
     "collapsed": false,
     "input": [
      "#!/usr/bin/env python\n",
      "'''Demonstration of LineCollection, PolyCollection, and\n",
      "RegularPolyCollection with autoscaling.\n",
      "\n",
      "For the first two subplots, we will use spirals.  Their\n",
      "size will be set in plot units, not data units.  Their positions\n",
      "will be set in data units by using the \"offsets\" and \"transOffset\"\n",
      "kwargs of the LineCollection and PolyCollection.\n",
      "\n",
      "The third subplot will make regular polygons, with the same\n",
      "type of scaling and positioning as in the first two.\n",
      "\n",
      "The last subplot illustrates the use of \"offsets=(xo,yo)\",\n",
      "that is, a single tuple instead of a list of tuples, to generate\n",
      "successively offset curves, with the offset given in data\n",
      "units.  This behavior is available only for the LineCollection.\n",
      "\n",
      "'''\n",
      "\n",
      "import matplotlib.pyplot as plt\n",
      "from matplotlib import collections, transforms\n",
      "from matplotlib.colors import colorConverter\n",
      "import numpy as np\n",
      "\n",
      "nverts = 50\n",
      "npts = 100\n",
      "\n",
      "# Make some spirals\n",
      "r = np.array(range(nverts))\n",
      "theta = np.array(range(nverts)) * (2*np.pi)/(nverts-1)\n",
      "xx = r * np.sin(theta)\n",
      "yy = r * np.cos(theta)\n",
      "spiral = list(zip(xx,yy))\n",
      "\n",
      "# Make some offsets\n",
      "rs = np.random.RandomState([12345678])\n",
      "xo = rs.randn(npts)\n",
      "yo = rs.randn(npts)\n",
      "xyo = list(zip(xo, yo))\n",
      "\n",
      "# Make a list of colors cycling through the rgbcmyk series.\n",
      "colors = [colorConverter.to_rgba(c) for c in ('r','g','b','c','y','m','k')]\n",
      "\n",
      "fig, axes = plt.subplots(2,2)\n",
      "((ax1, ax2), (ax3, ax4)) = axes # unpack the axes\n",
      "\n",
      "\n",
      "col = collections.LineCollection([spiral], offsets=xyo,\n",
      "                                transOffset=ax1.transData)\n",
      "trans = fig.dpi_scale_trans + transforms.Affine2D().scale(1.0/72.0)\n",
      "col.set_transform(trans)  # the points to pixels transform\n",
      "    # Note: the first argument to the collection initializer\n",
      "    # must be a list of sequences of x,y tuples; we have only\n",
      "    # one sequence, but we still have to put it in a list.\n",
      "ax1.add_collection(col, autolim=True)\n",
      "    # autolim=True enables autoscaling.  For collections with\n",
      "    # offsets like this, it is neither efficient nor accurate,\n",
      "    # but it is good enough to generate a plot that you can use\n",
      "    # as a starting point.  If you know beforehand the range of\n",
      "    # x and y that you want to show, it is better to set them\n",
      "    # explicitly, leave out the autolim kwarg (or set it to False),\n",
      "    # and omit the 'ax1.autoscale_view()' call below.\n",
      "\n",
      "# Make a transform for the line segments such that their size is\n",
      "# given in points:\n",
      "col.set_color(colors)\n",
      "\n",
      "ax1.autoscale_view()  # See comment above, after ax1.add_collection.\n",
      "ax1.set_title('LineCollection using offsets')\n",
      "\n",
      "\n",
      "# The same data as above, but fill the curves.\n",
      "col = collections.PolyCollection([spiral], offsets=xyo,\n",
      "                                transOffset=ax2.transData)\n",
      "trans = transforms.Affine2D().scale(fig.dpi/72.0)\n",
      "col.set_transform(trans)  # the points to pixels transform\n",
      "ax2.add_collection(col, autolim=True)\n",
      "col.set_color(colors)\n",
      "\n",
      "\n",
      "ax2.autoscale_view()\n",
      "ax2.set_title('PolyCollection using offsets')\n",
      "\n",
      "# 7-sided regular polygons\n",
      "\n",
      "col = collections.RegularPolyCollection(7,\n",
      "                                        sizes = np.fabs(xx)*10.0, offsets=xyo,\n",
      "                                        transOffset=ax3.transData)\n",
      "trans = transforms.Affine2D().scale(fig.dpi/72.0)\n",
      "col.set_transform(trans)  # the points to pixels transform\n",
      "ax3.add_collection(col, autolim=True)\n",
      "col.set_color(colors)\n",
      "ax3.autoscale_view()\n",
      "ax3.set_title('RegularPolyCollection using offsets')\n",
      "\n",
      "\n",
      "# Simulate a series of ocean current profiles, successively\n",
      "# offset by 0.1 m/s so that they form what is sometimes called\n",
      "# a \"waterfall\" plot or a \"stagger\" plot.\n",
      "\n",
      "nverts = 60\n",
      "ncurves = 20\n",
      "offs = (0.1, 0.0)\n",
      "\n",
      "yy = np.linspace(0, 2*np.pi, nverts)\n",
      "ym = np.amax(yy)\n",
      "xx = (0.2 + (ym-yy)/ym)**2 * np.cos(yy-0.4) * 0.5\n",
      "segs = []\n",
      "for i in range(ncurves):\n",
      "    xxx = xx + 0.02*rs.randn(nverts)\n",
      "    curve = list(zip(xxx, yy*100))\n",
      "    segs.append(curve)\n",
      "\n",
      "col = collections.LineCollection(segs, offsets=offs)\n",
      "ax4.add_collection(col, autolim=True)\n",
      "col.set_color(colors)\n",
      "ax4.autoscale_view()\n",
      "ax4.set_title('Successive data offsets')\n",
      "ax4.set_xlabel('Zonal velocity component (m/s)')\n",
      "ax4.set_ylabel('Depth (m)')\n",
      "# Reverse the y-axis so depth increases downward\n",
      "ax4.set_ylim(ax4.get_ylim()[::-1])\n",
      "\n",
      "\n",
      "plt.show()\n",
      "\n",
      "\n"
     ],
     "language": "python",
     "metadata": {},
     "outputs": []
    },
    {
     "cell_type": "heading",
     "level": 2,
     "metadata": {
      "internals": {
       "frag_helper": "fragment_end",
       "frag_number": 16,
       "slide_type": "subslide"
      },
      "slideshow": {
       "slide_type": "subslide"
      }
     },
     "source": [
      "LaTeX Rendering:"
     ]
    },
    {
     "cell_type": "code",
     "collapsed": false,
     "input": [
      "%%latex\n",
      "\\begin{eqnarray}\n",
      "\\nabla \\times \\vec{\\mathbf{B}} -\\, \\frac1c\\, \n",
      "\\frac{\\partial\\vec{\\mathbf{E}}}{\\partial t} & = \\frac{4\\pi}{c}\\vec{\\mathbf{j}} \\\\\n",
      "\\nabla \\cdot \\vec{\\mathbf{E}} & = 4 \\pi \\rho \\\\\n",
      "\\nabla \\times \\vec{\\mathbf{E}}\\, +\\, \\frac1c\\, \n",
      "\\frac{\\partial\\vec{\\mathbf{B}}}{\\partial t} & = \\vec{\\mathbf{0}} \\\\\n",
      "\\nabla \\cdot \\vec{\\mathbf{B}} & = 0 \n",
      "\\end{eqnarray}"
     ],
     "language": "python",
     "metadata": {
      "internals": {
       "frag_helper": "fragment_end",
       "frag_number": 16,
       "slide_helper": "subslide_end"
      },
      "slide_helper": "slide_end",
      "slideshow": {
       "slide_type": "-"
      }
     },
     "outputs": [
      {
       "latex": [
        "\\begin{eqnarray}\n",
        "\\nabla \\times \\vec{\\mathbf{B}} -\\, \\frac1c\\, \n",
        "\\frac{\\partial\\vec{\\mathbf{E}}}{\\partial t} & = \\frac{4\\pi}{c}\\vec{\\mathbf{j}} \\\\\n",
        "\\nabla \\cdot \\vec{\\mathbf{E}} & = 4 \\pi \\rho \\\\\n",
        "\\nabla \\times \\vec{\\mathbf{E}}\\, +\\, \\frac1c\\, \n",
        "\\frac{\\partial\\vec{\\mathbf{B}}}{\\partial t} & = \\vec{\\mathbf{0}} \\\\\n",
        "\\nabla \\cdot \\vec{\\mathbf{B}} & = 0 \n",
        "\\end{eqnarray}"
       ],
       "metadata": {},
       "output_type": "display_data",
       "text": [
        "<IPython.core.display.Latex at 0x7f5a80352410>"
       ]
      }
     ],
     "prompt_number": 70
    },
    {
     "cell_type": "heading",
     "level": 2,
     "metadata": {
      "internals": {
       "frag_helper": "fragment_end",
       "frag_number": 16,
       "slide_type": "subslide"
      },
      "slideshow": {
       "slide_type": "slide"
      }
     },
     "source": [
      "Interactive Widgets"
     ]
    },
    {
     "cell_type": "code",
     "collapsed": false,
     "input": [
      "from IPython.html.widgets import interact\n",
      "from IPython.display import display"
     ],
     "language": "python",
     "metadata": {
      "internals": {
       "frag_helper": "fragment_end",
       "frag_number": 16
      },
      "slideshow": {
       "slide_type": "skip"
      }
     },
     "outputs": []
    },
    {
     "cell_type": "code",
     "collapsed": false,
     "input": [
      "from sympy import Symbol, Eq, factor, init_printing\n",
      "init_printing(use_latex='mathjax')"
     ],
     "language": "python",
     "metadata": {
      "internals": {
       "frag_helper": "fragment_end",
       "frag_number": 16
      },
      "slideshow": {
       "slide_type": "skip"
      }
     },
     "outputs": []
    },
    {
     "cell_type": "code",
     "collapsed": false,
     "input": [
      "x = Symbol('x')"
     ],
     "language": "python",
     "metadata": {
      "internals": {
       "frag_helper": "fragment_end",
       "frag_number": 16
      },
      "slideshow": {
       "slide_type": "skip"
      }
     },
     "outputs": []
    },
    {
     "cell_type": "code",
     "collapsed": false,
     "input": [
      "from IPython.html.widgets import interact\n",
      "from IPython.display import display\n",
      "\n",
      "from sympy import Symbol, Eq, factor, init_printing\n",
      "init_printing(use_latex='mathjax')\n",
      "\n",
      "x = Symbol('x')"
     ],
     "language": "python",
     "metadata": {
      "internals": {
       "frag_helper": "fragment_end",
       "frag_number": 16
      },
      "slideshow": {
       "slide_type": "-"
      }
     },
     "outputs": [],
     "prompt_number": 71
    },
    {
     "cell_type": "code",
     "collapsed": false,
     "input": [
      "def factorit(n):\n",
      "    display(Eq(x**n-1, factor(x**n-1)))"
     ],
     "language": "python",
     "metadata": {
      "internals": {
       "frag_helper": "fragment_end",
       "frag_number": 96,
       "slide_helper": "subslide_end"
      },
      "slide_helper": "subslide_end",
      "slideshow": {
       "slide_type": "fragment"
      }
     },
     "outputs": [],
     "prompt_number": 72
    },
    {
     "cell_type": "markdown",
     "metadata": {
      "internals": {
       "frag_helper": "fragment_end",
       "frag_number": 96,
       "slide_type": "subslide"
      },
      "slideshow": {
       "slide_type": "subslide"
      }
     },
     "source": [
      "Output is properly formatted LaTeX!"
     ]
    },
    {
     "cell_type": "code",
     "collapsed": false,
     "input": [
      "factorit(12)"
     ],
     "language": "python",
     "metadata": {
      "internals": {
       "frag_helper": "fragment_end",
       "frag_number": 98
      },
      "slideshow": {
       "slide_type": "fragment"
      }
     },
     "outputs": [
      {
       "latex": [
        "$$x^{12} - 1 = \\left(x - 1\\right) \\left(x + 1\\right) \\left(x^{2} + 1\\right) \\left(x^{2} - x + 1\\right) \\left(x^{2} + x + 1\\right) \\left(x^{4} - x^{2} + 1\\right)$$"
       ],
       "metadata": {},
       "output_type": "display_data",
       "text": [
        " 12                       \u239b 2    \u239e \u239b 2        \u239e \u239b 2        \u239e \u239b 4    2    \u239e\n",
        "x   - 1 = (x - 1)\u22c5(x + 1)\u22c5\u239dx  + 1\u23a0\u22c5\u239dx  - x + 1\u23a0\u22c5\u239dx  + x + 1\u23a0\u22c5\u239dx  - x  + 1\u23a0"
       ]
      }
     ],
     "prompt_number": 73
    },
    {
     "cell_type": "code",
     "collapsed": false,
     "input": [
      "interact(factorit, n=(2,40));"
     ],
     "language": "python",
     "metadata": {
      "internals": {
       "frag_helper": "fragment_end",
       "frag_number": 99,
       "slide_helper": "subslide_end"
      },
      "slide_helper": "subslide_end",
      "slideshow": {
       "slide_type": "fragment"
      }
     },
     "outputs": [
      {
       "latex": [
        "$$x^{28} - 1 = \\left(x - 1\\right) \\left(x + 1\\right) \\left(x^{2} + 1\\right) \\left(x^{6} - x^{5} + x^{4} - x^{3} + x^{2} - x + 1\\right) \\left(x^{6} + x^{5} + x^{4} + x^{3} + x^{2} + x + 1\\right) \\left(x^{12} - x^{10} + x^{8} - x^{6} + x^{4} - x^{2} + 1\\right)$$"
       ],
       "metadata": {},
       "output_type": "display_data",
       "text": [
        " 28                       \u239b 2    \u239e \u239b 6    5    4    3    2        \u239e \u239b 6    5  \n",
        "x   - 1 = (x - 1)\u22c5(x + 1)\u22c5\u239dx  + 1\u23a0\u22c5\u239dx  - x  + x  - x  + x  - x + 1\u23a0\u22c5\u239dx  + x  +\n",
        "\n",
        "  4    3    2        \u239e \u239b 12    10    8    6    4    2    \u239e\n",
        " x  + x  + x  + x + 1\u23a0\u22c5\u239dx   - x   + x  - x  + x  - x  + 1\u23a0"
       ]
      }
     ],
     "prompt_number": 74
    },
    {
     "cell_type": "heading",
     "level": 2,
     "metadata": {
      "internals": {
       "frag_helper": "fragment_end",
       "frag_number": 99,
       "slide_type": "subslide"
      },
      "slideshow": {
       "slide_type": "subslide"
      }
     },
     "source": [
      "Pandas"
     ]
    },
    {
     "cell_type": "code",
     "collapsed": false,
     "input": [
      "import pandas\n",
      "pandas.set_option('display.notebook_repr_html', True)"
     ],
     "language": "python",
     "metadata": {
      "internals": {
       "frag_helper": "fragment_end",
       "frag_number": 99
      },
      "slideshow": {
       "slide_type": "-"
      }
     },
     "outputs": [],
     "prompt_number": 75
    },
    {
     "cell_type": "code",
     "collapsed": false,
     "input": [
      "%%writefile data.csv\n",
      "Date,Open,High,Low,Close,Volume,Adj Close\n",
      "2012-06-01,569.16,590.00,548.50,584.00,14077000,581.50\n",
      "2012-05-01,584.90,596.76,522.18,577.73,18827900,575.26\n",
      "2012-04-02,601.83,644.00,555.00,583.98,28759100,581.48\n",
      "2012-03-01,548.17,621.45,516.22,599.55,26486000,596.99\n",
      "2012-02-01,458.41,547.61,453.98,542.44,22001000,540.12\n",
      "2012-01-03,409.40,458.24,409.00,456.48,12949100,454.53"
     ],
     "language": "python",
     "metadata": {
      "internals": {
       "frag_helper": "fragment_end",
       "frag_number": 99
      },
      "slideshow": {
       "slide_type": "-"
      }
     },
     "outputs": [
      {
       "output_type": "stream",
       "stream": "stdout",
       "text": [
        "Writing data.csv\n"
       ]
      }
     ],
     "prompt_number": 76
    },
    {
     "cell_type": "code",
     "collapsed": false,
     "input": [
      "df = pandas.read_csv('data.csv')\n",
      "df"
     ],
     "language": "python",
     "metadata": {
      "internals": {
       "frag_helper": "fragment_end",
       "frag_number": 99,
       "slide_helper": "subslide_end"
      },
      "slide_helper": "slide_end",
      "slideshow": {
       "slide_type": "-"
      }
     },
     "outputs": [
      {
       "html": [
        "<div style=\"max-height:1000px;max-width:1500px;overflow:auto;\">\n",
        "<table border=\"1\" class=\"dataframe\">\n",
        "  <thead>\n",
        "    <tr style=\"text-align: right;\">\n",
        "      <th></th>\n",
        "      <th>Date</th>\n",
        "      <th>Open</th>\n",
        "      <th>High</th>\n",
        "      <th>Low</th>\n",
        "      <th>Close</th>\n",
        "      <th>Volume</th>\n",
        "      <th>Adj Close</th>\n",
        "    </tr>\n",
        "  </thead>\n",
        "  <tbody>\n",
        "    <tr>\n",
        "      <th>0</th>\n",
        "      <td> 2012-06-01</td>\n",
        "      <td> 569.16</td>\n",
        "      <td> 590.00</td>\n",
        "      <td> 548.50</td>\n",
        "      <td> 584.00</td>\n",
        "      <td> 14077000</td>\n",
        "      <td> 581.50</td>\n",
        "    </tr>\n",
        "    <tr>\n",
        "      <th>1</th>\n",
        "      <td> 2012-05-01</td>\n",
        "      <td> 584.90</td>\n",
        "      <td> 596.76</td>\n",
        "      <td> 522.18</td>\n",
        "      <td> 577.73</td>\n",
        "      <td> 18827900</td>\n",
        "      <td> 575.26</td>\n",
        "    </tr>\n",
        "    <tr>\n",
        "      <th>2</th>\n",
        "      <td> 2012-04-02</td>\n",
        "      <td> 601.83</td>\n",
        "      <td> 644.00</td>\n",
        "      <td> 555.00</td>\n",
        "      <td> 583.98</td>\n",
        "      <td> 28759100</td>\n",
        "      <td> 581.48</td>\n",
        "    </tr>\n",
        "    <tr>\n",
        "      <th>3</th>\n",
        "      <td> 2012-03-01</td>\n",
        "      <td> 548.17</td>\n",
        "      <td> 621.45</td>\n",
        "      <td> 516.22</td>\n",
        "      <td> 599.55</td>\n",
        "      <td> 26486000</td>\n",
        "      <td> 596.99</td>\n",
        "    </tr>\n",
        "    <tr>\n",
        "      <th>4</th>\n",
        "      <td> 2012-02-01</td>\n",
        "      <td> 458.41</td>\n",
        "      <td> 547.61</td>\n",
        "      <td> 453.98</td>\n",
        "      <td> 542.44</td>\n",
        "      <td> 22001000</td>\n",
        "      <td> 540.12</td>\n",
        "    </tr>\n",
        "    <tr>\n",
        "      <th>5</th>\n",
        "      <td> 2012-01-03</td>\n",
        "      <td> 409.40</td>\n",
        "      <td> 458.24</td>\n",
        "      <td> 409.00</td>\n",
        "      <td> 456.48</td>\n",
        "      <td> 12949100</td>\n",
        "      <td> 454.53</td>\n",
        "    </tr>\n",
        "  </tbody>\n",
        "</table>\n",
        "</div>"
       ],
       "metadata": {},
       "output_type": "pyout",
       "prompt_number": 77,
       "text": [
        "         Date    Open    High     Low   Close    Volume  Adj Close\n",
        "0  2012-06-01  569.16  590.00  548.50  584.00  14077000     581.50\n",
        "1  2012-05-01  584.90  596.76  522.18  577.73  18827900     575.26\n",
        "2  2012-04-02  601.83  644.00  555.00  583.98  28759100     581.48\n",
        "3  2012-03-01  548.17  621.45  516.22  599.55  26486000     596.99\n",
        "4  2012-02-01  458.41  547.61  453.98  542.44  22001000     540.12\n",
        "5  2012-01-03  409.40  458.24  409.00  456.48  12949100     454.53"
       ]
      }
     ],
     "prompt_number": 77
    },
    {
     "cell_type": "heading",
     "level": 2,
     "metadata": {
      "internals": {
       "frag_helper": "fragment_end",
       "frag_number": 99,
       "slide_type": "subslide"
      },
      "slideshow": {
       "slide_type": "slide"
      }
     },
     "source": [
      "The IPython kernel/client model"
     ]
    },
    {
     "cell_type": "code",
     "collapsed": false,
     "input": [
      "%connect_info"
     ],
     "language": "python",
     "metadata": {
      "internals": {
       "frag_helper": "fragment_end",
       "frag_number": 99
      },
      "slideshow": {
       "slide_type": "-"
      }
     },
     "outputs": [
      {
       "output_type": "stream",
       "stream": "stdout",
       "text": [
        "{\n",
        "  \"signature_scheme\": \"hmac-sha256\", \n",
        "  \"transport\": \"tcp\", \n",
        "  \"stdin_port\": 53782, \n",
        "  \"control_port\": 54261, \n",
        "  \"key\": \"69f82588-28ac-4318-8c4f-337ecbe2ff3a\", \n",
        "  \"ip\": \"127.0.0.1\", \n",
        "  \"iopub_port\": 45208, \n",
        "  \"hb_port\": 52401, \n",
        "  \"shell_port\": 40902\n",
        "}\n",
        "\n",
        "Paste the above JSON into a file, and connect with:\n",
        "    $> ipython <app> --existing <file>\n",
        "or, if you are local, you can connect with just:\n",
        "    $> ipython <app> --existing kernel-b3d751a9-8cea-4e09-b14c-56b089df5ae7.json --profile rise\n",
        "or even just:\n",
        "    $> ipython <app> --existing --profile rise\n",
        "if this is the most recent IPython session you have started.\n"
       ]
      }
     ],
     "prompt_number": 78
    },
    {
     "cell_type": "code",
     "collapsed": false,
     "input": [
      "%qtconsole"
     ],
     "language": "python",
     "metadata": {
      "internals": {
       "frag_helper": "fragment_end",
       "frag_number": 99,
       "slide_helper": "subslide_end"
      },
      "slide_helper": "slide_end",
      "slideshow": {
       "slide_type": "-"
      }
     },
     "outputs": [],
     "prompt_number": 79
    },
    {
     "cell_type": "heading",
     "level": 1,
     "metadata": {
      "internals": {
       "frag_helper": "fragment_end",
       "frag_number": 99,
       "slide_type": "subslide"
      },
      "slideshow": {
       "slide_type": "slide"
      }
     },
     "source": [
      "4. `nbconvert`"
     ]
    },
    {
     "cell_type": "heading",
     "level": 2,
     "metadata": {
      "internals": {
       "frag_helper": "fragment_end",
       "frag_number": 99
      },
      "slideshow": {
       "slide_type": "-"
      }
     },
     "source": [
      "Introduction"
     ]
    },
    {
     "cell_type": "markdown",
     "metadata": {
      "internals": {
       "frag_helper": "fragment_end",
       "frag_number": 99,
       "slide_helper": "subslide_end"
      },
      "slide_helper": "subslide_end",
      "slideshow": {
       "slide_type": "-"
      }
     },
     "source": [
      "* `NBConvert` is a library that was *recently* added to the IPython core. This library allows to *nbconvert* notebooks in other formats like: `html`, `latex`, `markdown`, `python`, `rst` and  `slides`.\n",
      "\n",
      "* This library is based on Jinja `templates`, that one add or modify without too much trouble"
     ]
    },
    {
     "cell_type": "markdown",
     "metadata": {
      "internals": {
       "frag_helper": "fragment_end",
       "frag_number": 99,
       "slide_type": "subslide"
      },
      "slideshow": {
       "slide_type": "subslide"
      }
     },
     "source": [
      "From the command line:\n",
      "\n",
      "`$ ipython nbconvert <options and arguments>`\n",
      "\n",
      "To get help: \n",
      "\n",
      "`$ ipython nbconvert --help` (or `--help-all` for more details)."
     ]
    },
    {
     "cell_type": "code",
     "collapsed": false,
     "input": [
      "%%bash\n",
      "ipython nbconvert  IPython_Workshop.ipynb --to html"
     ],
     "language": "python",
     "metadata": {
      "internals": {
       "frag_helper": "fragment_end",
       "frag_number": 99,
       "slide_helper": "subslide_end"
      },
      "slide_helper": "subslide_end",
      "slideshow": {
       "slide_type": "-"
      }
     },
     "outputs": [
      {
       "output_type": "stream",
       "stream": "stderr",
       "text": [
        "[NbConvertApp] Using existing profile dir: '/home/beltrame/.ipython/profile_default'\n",
        "[NbConvertApp] Converting notebook IPython_Workshop.ipynb to html\n",
        "[NbConvertApp] Support files will be in IPython_Workshop_files/\n",
        "[NbConvertApp] Loaded template full.tpl\n",
        "[NbConvertApp] Writing 351310 bytes to IPython_Workshop.html\n"
       ]
      }
     ],
     "prompt_number": 81
    },
    {
     "cell_type": "heading",
     "level": 2,
     "metadata": {
      "internals": {
       "frag_helper": "fragment_end",
       "frag_number": 99,
       "slide_type": "subslide"
      },
      "slideshow": {
       "slide_type": "subslide"
      }
     },
     "source": [
      "Slides"
     ]
    },
    {
     "cell_type": "markdown",
     "metadata": {
      "internals": {
       "frag_helper": "fragment_end",
       "frag_number": 99
      },
      "slideshow": {
       "slide_type": "-"
      }
     },
     "source": [
      "This nbconverter generates and HTML presentation based on Reveal.js\n",
      "\n",
      "* Slides (horizontal).\n",
      "* Subslides (vertical).\n",
      "* Fragments.\n",
      "* Transitions.\n",
      "* Themes.\n",
      "* Notes.\n",
      "* PDF export."
     ]
    },
    {
     "cell_type": "code",
     "collapsed": false,
     "input": [
      "import subprocess\n",
      "\n",
      "command = \"ipython nbconvert IPython_Workshop.ipynb --to slides --post serve\"\n",
      "subprocess.Popen(command.split())"
     ],
     "language": "python",
     "metadata": {
      "internals": {
       "frag_helper": "fragment_end",
       "frag_number": 99
      },
      "slideshow": {
       "slide_type": "-"
      }
     },
     "outputs": []
    },
    {
     "cell_type": "markdown",
     "metadata": {
      "internals": {
       "frag_helper": "fragment_end",
       "frag_number": 99,
       "slide_helper": "subslide_end"
      },
      "slide_helper": "slide_end",
      "slideshow": {
       "slide_type": "-"
      }
     },
     "source": [
      "More info: [http://www.damian.oquanta.info/categories/reveal.html](http://www.damian.oquanta.info/categories/reveal.html)"
     ]
    },
    {
     "cell_type": "heading",
     "level": 1,
     "metadata": {
      "internals": {
       "frag_helper": "fragment_end",
       "frag_number": 99,
       "slide_type": "subslide"
      },
      "slideshow": {
       "slide_type": "slide"
      }
     },
     "source": [
      "5. Discussion"
     ]
    },
    {
     "cell_type": "markdown",
     "metadata": {
      "internals": {
       "frag_helper": "fragment_end",
       "frag_number": 99
      },
      "slideshow": {
       "slide_type": "-"
      }
     },
     "source": [
      "IPython Notebook provides the tools needed for:"
     ]
    },
    {
     "cell_type": "markdown",
     "metadata": {
      "internals": {
       "frag_helper": "fragment_end",
       "frag_number": 118
      },
      "slideshow": {
       "slide_type": "fragment"
      }
     },
     "source": [
      "1- Obtaining **data**."
     ]
    },
    {
     "cell_type": "markdown",
     "metadata": {
      "internals": {
       "frag_helper": "fragment_end",
       "frag_number": 119
      },
      "slideshow": {
       "slide_type": "fragment"
      }
     },
     "source": [
      "2- **Process** these data"
     ]
    },
    {
     "cell_type": "markdown",
     "metadata": {
      "internals": {
       "frag_helper": "fragment_end",
       "frag_number": 120
      },
      "slideshow": {
       "slide_type": "fragment"
      }
     },
     "source": [
      "3- **Visualize** the processed data"
     ]
    },
    {
     "cell_type": "markdown",
     "metadata": {
      "internals": {
       "frag_helper": "fragment_end",
       "frag_number": 121
      },
      "slideshow": {
       "slide_type": "fragment"
      }
     },
     "source": [
      "4- **Assemble** a **story** that is **substantiated** by the analyzed data"
     ]
    },
    {
     "cell_type": "markdown",
     "metadata": {
      "internals": {
       "frag_helper": "fragment_end",
       "frag_number": 122,
       "slide_helper": "subslide_end"
      },
      "slide_helper": "subslide_end",
      "slideshow": {
       "slide_type": "fragment"
      }
     },
     "source": [
      "5- **Communicate** said **story**, together with **data** and **visualizations**"
     ]
    },
    {
     "cell_type": "heading",
     "level": 1,
     "metadata": {
      "internals": {
       "frag_helper": "fragment_end",
       "frag_number": 122,
       "slide_type": "subslide"
      },
      "slideshow": {
       "slide_type": "subslide"
      }
     },
     "source": [
      "6. Future development"
     ]
    },
    {
     "cell_type": "markdown",
     "metadata": {
      "internals": {
       "frag_helper": "fragment_end",
       "frag_number": 122,
       "slide_helper": "subslide_end"
      },
      "slide_helper": "slide_end",
      "slideshow": {
       "slide_type": "-"
      }
     },
     "source": [
      "IPython is still in development\n",
      "\n",
      "[https://github.com/ipython/ipython/wiki/Roadmap:-IPython](https://github.com/ipython/ipython/wiki/Roadmap:-IPython)\n",
      "\n",
      "* Multiuser\n",
      "* Multidirectory\n",
      "* Interactive widgets (js)\n",
      "* Better export (nbconvert)\n",
      "* Presentation mode (I got it from *github*!)\n",
      "\n",
      "Check out the IPython notebook library!\n",
      "\n",
      "[https://github.com/ipython/ipython/wiki/A-gallery-of-interesting-IPython-Notebooks](https://github.com/ipython/ipython/wiki/A-gallery-of-interesting-IPython-Notebooks)"
     ]
    },
    {
     "cell_type": "heading",
     "level": 1,
     "metadata": {
      "internals": {
       "frag_helper": "fragment_end",
       "frag_number": 122,
       "slide_type": "subslide"
      },
      "slideshow": {
       "slide_type": "slide"
      }
     },
     "source": [
      "7. Today's Tutorials"
     ]
    },
    {
     "cell_type": "markdown",
     "metadata": {
      "internals": {
       "frag_helper": "fragment_end",
       "frag_number": 122,
       "slide_helper": "subslide_end"
      },
      "slide_helper": "slide_end",
      "slideshow": {
       "slide_type": "-"
      }
     },
     "source": [
      "* [Notebook basics](content/NotebookBasics.ipynb)\n",
      "* [Plotting](content/Plotting.ipynb)\n",
      "* [Interactive Widgets](content/InteractiveWidgets.ipynb)\n",
      "* [Data Analysis](content/DataAnalysis.ipynb)\n",
      "* [Challenge](http://nbviewer.ipython.org/github/mistlab/NotebookTutorial/blob/master/content/Challenge.ipynb)"
     ]
    }
   ],
   "metadata": {}
  }
 ]
}