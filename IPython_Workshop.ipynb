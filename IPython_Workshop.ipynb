{
 "cells": [
  {
   "cell_type": "markdown",
   "metadata": {
    "internals": {
     "slide_helper": "subslide_end",
     "slide_type": "subslide"
    },
    "slide_helper": "slide_end",
    "slideshow": {
     "slide_type": "slide"
    }
   },
   "source": [
    " <h1 style=\"font-size: 36pt\">Introductory Jupyter Notebook</h1>\n",
    "<p style=\"font-size: 10pt; \">A talk loosely inspired by Damian Avila's IPython-fu</p>\n",
    "\n",
    "<br />\n",
    "\n",
    "<a href=\"http://mistlab.ca\"><img src=\"http://mistlab.ca/images/mistlogo.png\" /></a>\n",
    "\n",
    "<p></p>\n",
    "\n",
    "<i class=\"fa fa-user\" style=\"padding: 10px\"></i> [Giovanni Beltrame](http://www.professeurs.polymtl.ca/giovanni.beltrame/)\n",
    "<i class=\"fa fa-envelope\" style=\"padding: 10px\"></i><a href=\"mailto:info@mistlab.ca\">info@mistlab.info</a>\n",
    "<i class=\"fa fa-twitter\" style=\"padding: 10px\"></i> [@MIST_Lab](http://twitter.com/MIST_Lab)\n",
    "<i class=\"fa fa-github\" style=\"padding: 10px\"></i> [mistlab](https://github.com/mistlab)\n",
    "\n"
   ]
  },
  {
   "cell_type": "markdown",
   "metadata": {
    "internals": {
     "slide_helper": "subslide_end",
     "slide_type": "subslide"
    },
    "slide_helper": "slide_end",
    "slideshow": {
     "slide_type": "slide"
    }
   },
   "source": [
    "<p style=\"text-align: center;\"><i class=\"fa fa-link fa-lg\"> </i> <a href=\"http://github.com/mistlab/NotebookTutorial\">http://github.com/mistlab/NotebookTutorial</a></p>"
   ]
  },
  {
   "cell_type": "markdown",
   "metadata": {
    "internals": {
     "slide_helper": "subslide_end",
     "slide_type": "subslide"
    },
    "slide_helper": "subslide_end",
    "slideshow": {
     "slide_type": "slide"
    }
   },
   "source": [
    "# 1. Jupyter Notebook"
   ]
  },
  {
   "cell_type": "markdown",
   "metadata": {
    "internals": {
     "slide_type": "subslide"
    },
    "slideshow": {
     "slide_type": "subslide"
    }
   },
   "source": [
    "<img class=\"center\" src=\"http://jupyter.org/assets/nav_logo.svg\" />"
   ]
  },
  {
   "cell_type": "markdown",
   "metadata": {
    "internals": {
     "slide_helper": "subslide_end"
    },
    "slide_helper": "subslide_end",
    "slideshow": {
     "slide_type": "-"
    }
   },
   "source": [
    "<p style=\"text-align: center;\"><i class=\"fa fa-link\"> <a href=\"http://jupyter.org\">http://jupyter.org</a></i></p>"
   ]
  },
  {
   "cell_type": "markdown",
   "metadata": {
    "internals": {
     "slide_type": "subslide"
    },
    "slideshow": {
     "slide_type": "subslide"
    }
   },
   "source": [
    "## What is the Jupyter Notebook?"
   ]
  },
  {
   "cell_type": "markdown",
   "metadata": {
    "internals": {},
    "slideshow": {
     "slide_type": "-"
    }
   },
   "source": [
    ">The goal of Jupyter Notebook is to create a comprehensive environment for interactive and exploratory computing."
   ]
  },
  {
   "cell_type": "markdown",
   "metadata": {
    "internals": {},
    "slideshow": {
     "slide_type": "-"
    }
   },
   "source": [
    "## It's an ensemble of tools to tell **stories**:"
   ]
  },
  {
   "cell_type": "markdown",
   "metadata": {
    "internals": {
     "slide_helper": "subslide_end"
    },
    "slide_helper": "subslide_end",
    "slideshow": {
     "slide_type": "-"
    }
   },
   "source": [
    "* methodologies\n",
    "* processes\n",
    "* analyses"
   ]
  },
  {
   "cell_type": "markdown",
   "metadata": {
    "internals": {
     "slide_type": "subslide"
    },
    "slideshow": {
     "slide_type": "subslide"
    }
   },
   "source": [
    "## Technically speaking, it's a JSON document:"
   ]
  },
  {
   "cell_type": "code",
   "execution_count": 5,
   "metadata": {
    "internals": {
     "slide_helper": "subslide_end"
    },
    "slide_helper": "subslide_end",
    "slideshow": {
     "slide_type": "-"
    }
   },
   "outputs": [
    {
     "data": {
      "text/plain": [
       "[{'cell_type': 'markdown',\n",
       "  'metadata': {'internals': {'frag_helper': 'fragment_end',\n",
       "    'frag_number': 16,\n",
       "    'slide_type': 'subslide'},\n",
       "   'slideshow': {'slide_type': 'subslide'}},\n",
       "  'source': \"## What's needed to make it work?\"}]"
      ]
     },
     "execution_count": 5,
     "metadata": {},
     "output_type": "execute_result"
    }
   ],
   "source": [
    "import nbformat\n",
    "with open('IPython_Workshop.ipynb') as f:\n",
    "    nb = nbformat.read(f,nbformat.NO_CONVERT)\n",
    "    \n",
    "nb.cells[18:19]"
   ]
  },
  {
   "cell_type": "markdown",
   "metadata": {
    "internals": {
     "slide_helper": "subslide_end",
     "slide_type": "subslide"
    },
    "slide_helper": "subslide_end",
    "slideshow": {
     "slide_type": "subslide"
    }
   },
   "source": [
    "* It generates `.ipynb` files that you can find in the current directory\n",
    "* In each notebook we can put:\n",
    "    * Code\n",
    "    * Text (Markdown)\n",
    "    * Math (LaTeX)\n",
    "    * Imges\n",
    "    * Videos\n",
    "    * Pure HTML\n",
    "* It can be easily versioned\n",
    "* You can view a notebook even without Jupyter using NBViewer: http://nbviewer.jupyter.org/.\n",
    "* It can be easily converted in Slides, HTML, Markdown, reStructured Text, LaTeX and PDF!"
   ]
  },
  {
   "cell_type": "markdown",
   "metadata": {
    "internals": {
     "slide_type": "subslide"
    },
    "slideshow": {
     "slide_type": "subslide"
    }
   },
   "source": [
    "## What are its characteristics?"
   ]
  },
  {
   "cell_type": "markdown",
   "metadata": {
    "internals": {
     "frag_number": 13
    },
    "slideshow": {
     "slide_type": "fragment"
    }
   },
   "source": [
    "* Interactive"
   ]
  },
  {
   "cell_type": "markdown",
   "metadata": {
    "internals": {
     "frag_helper": "fragment_end",
     "frag_number": 14
    },
    "slideshow": {
     "slide_type": "fragment"
    }
   },
   "source": [
    "* Exploratory"
   ]
  },
  {
   "cell_type": "markdown",
   "metadata": {
    "internals": {
     "frag_helper": "fragment_end",
     "frag_number": 15
    },
    "slideshow": {
     "slide_type": "fragment"
    }
   },
   "source": [
    "* Collaborative"
   ]
  },
  {
   "cell_type": "markdown",
   "metadata": {
    "internals": {
     "frag_helper": "fragment_end",
     "frag_number": 16,
     "slide_helper": "subslide_end"
    },
    "slide_helper": "slide_end",
    "slideshow": {
     "slide_type": "fragment"
    }
   },
   "source": [
    "* Open"
   ]
  },
  {
   "cell_type": "markdown",
   "metadata": {
    "internals": {
     "frag_helper": "fragment_end",
     "frag_number": 16,
     "slide_helper": "subslide_end",
     "slide_type": "subslide"
    },
    "slide_helper": "subslide_end",
    "slideshow": {
     "slide_type": "slide"
    }
   },
   "source": [
    "# 2. Installing the Jupyter Notebook"
   ]
  },
  {
   "cell_type": "markdown",
   "metadata": {
    "internals": {
     "frag_helper": "fragment_end",
     "frag_number": 16,
     "slide_type": "subslide"
    },
    "slideshow": {
     "slide_type": "subslide"
    }
   },
   "source": [
    "## What's needed to make it work?"
   ]
  },
  {
   "cell_type": "markdown",
   "metadata": {
    "internals": {
     "frag_helper": "fragment_end",
     "frag_number": 16,
     "slide_helper": "subslide_end"
    },
    "slide_helper": "subslide_end",
    "slideshow": {
     "slide_type": "-"
    }
   },
   "source": [
    "A scary list of items:\n",
    "\n",
    "* Tornado\n",
    "* ZeroMQ/PyZMQ\n",
    "* Jinja2\n",
    "* Chrome, Firefox, Safari (WebSockets, Flexible Box Model)\n",
    "* Matplotlib to show figures\n",
    "\n",
    "In practice:\n",
    "\n",
    "* On Linux and Mac  `pip install jupyter` is enough to get it running\n",
    "* Many easy installers for Windows: Canopy, **Anaconda**, Python XY, WinPython, Pyzo\n",
    "* No time for installation? [Wakari](http://wakari.io)"
   ]
  },
  {
   "cell_type": "markdown",
   "metadata": {
    "internals": {
     "frag_helper": "fragment_end",
     "frag_number": 16,
     "slide_type": "subslide"
    },
    "slideshow": {
     "slide_type": "subslide"
    }
   },
   "source": [
    "## How to run it?"
   ]
  },
  {
   "cell_type": "markdown",
   "metadata": {
    "internals": {
     "frag_helper": "fragment_end",
     "frag_number": 16,
     "slide_helper": "subslide_end"
    },
    "slide_helper": "subslide_end",
    "slideshow": {
     "slide_type": "-"
    }
   },
   "source": [
    "* `cd` where your `ipynb` files are, and type:\n",
    "\n",
    "```bash\n",
    "beltrame@iskander:~$ jupyter notebook\n",
    "\n",
    "[I 07:30:41.394 NotebookApp] Serving notebooks from local directory: /home/beltrame/Documents/Presentations/2015/NotebookTutorial\n",
    "[I 07:30:41.394 NotebookApp] 0 active kernels\n",
    "[I 07:30:41.395 NotebookApp] The Jupyter Notebook is running at:\n",
    "[I 07:30:41.395 NotebookApp] http://localhost:8889/?token=7dd6e8f3c1d594b6c11b6df0352009931c649e046e2084d0\n",
    "[I 07:30:41.395 NotebookApp] Use Control-C to stop this server and shut down all kernels (twice to skip confirmation).\n",
    "```"
   ]
  },
  {
   "cell_type": "markdown",
   "metadata": {
    "internals": {
     "frag_helper": "fragment_end",
     "frag_number": 16,
     "slide_type": "subslide"
    },
    "slideshow": {
     "slide_type": "subslide"
    }
   },
   "source": [
    "## User Interface"
   ]
  },
  {
   "cell_type": "markdown",
   "metadata": {
    "internals": {
     "frag_helper": "fragment_end",
     "frag_number": 16,
     "slide_helper": "subslide_end"
    },
    "slide_helper": "subslide_end",
    "slideshow": {
     "slide_type": "-"
    }
   },
   "source": [
    "* Dashboard\n",
    "* Menu\n",
    "* Toolbar\n",
    "* Notebook and cells area"
   ]
  },
  {
   "cell_type": "markdown",
   "metadata": {
    "internals": {
     "frag_helper": "fragment_end",
     "frag_number": 16,
     "slide_type": "subslide"
    },
    "slideshow": {
     "slide_type": "subslide"
    }
   },
   "source": [
    "## Cell Types"
   ]
  },
  {
   "cell_type": "markdown",
   "metadata": {
    "internals": {
     "frag_helper": "fragment_end",
     "frag_number": 16,
     "slide_helper": "subslide_end"
    },
    "slide_helper": "subslide_end",
    "slideshow": {
     "slide_type": "-"
    }
   },
   "source": [
    "* Code\n",
    "* Markdown\n",
    "* Raw text\n",
    "* **Heading**"
   ]
  },
  {
   "cell_type": "markdown",
   "metadata": {
    "internals": {
     "frag_helper": "fragment_end",
     "frag_number": 16,
     "slide_type": "subslide"
    },
    "slideshow": {
     "slide_type": "subslide"
    }
   },
   "source": [
    "## Keyboard Shortcuts"
   ]
  },
  {
   "cell_type": "markdown",
   "metadata": {
    "internals": {
     "frag_helper": "fragment_end",
     "frag_number": 16,
     "slide_helper": "subslide_end"
    },
    "slide_helper": "slide_end",
    "slideshow": {
     "slide_type": "-"
    }
   },
   "source": [
    "* `Shift-Enter` to execute a cell\n",
    "* `Ctrl-Enter` to execute a cell and *remain* in the same cell\n",
    "* `Alt-Enter` to execute a cell and insert a new one under the cell that was just *executed*.\n",
    "* All other shortcuts have the same template: `Ctrl-m ?`\n",
    "* `Ctrl-m h` to view the available shortcuts"
   ]
  },
  {
   "cell_type": "markdown",
   "metadata": {
    "internals": {
     "frag_helper": "fragment_end",
     "frag_number": 16,
     "slide_helper": "subslide_end",
     "slide_type": "subslide"
    },
    "slide_helper": "subslide_end",
    "slideshow": {
     "slide_type": "slide"
    }
   },
   "source": [
    "# 3. Using the Jupyter Notebook"
   ]
  },
  {
   "cell_type": "markdown",
   "metadata": {
    "internals": {
     "frag_helper": "fragment_end",
     "frag_number": 16,
     "slide_type": "subslide"
    },
    "slideshow": {
     "slide_type": "subslide"
    }
   },
   "source": [
    "## You can write code and run it:"
   ]
  },
  {
   "cell_type": "markdown",
   "metadata": {
    "internals": {
     "frag_helper": "fragment_end",
     "frag_number": 16
    },
    "slideshow": {
     "slide_type": "-"
    }
   },
   "source": [
    "Classic `Hello World!`:"
   ]
  },
  {
   "cell_type": "code",
   "execution_count": 6,
   "metadata": {
    "internals": {
     "frag_helper": "fragment_end",
     "frag_number": 16,
     "slide_helper": "subslide_end"
    },
    "slide_helper": "subslide_end",
    "slideshow": {
     "slide_type": "-"
    }
   },
   "outputs": [
    {
     "name": "stdout",
     "output_type": "stream",
     "text": [
      "Hello All Attendees!\n"
     ]
    }
   ],
   "source": [
    "print(\"Hello All Attendees!\")"
   ]
  },
  {
   "cell_type": "markdown",
   "metadata": {
    "internals": {
     "frag_helper": "fragment_end",
     "frag_number": 16,
     "slide_type": "subslide"
    },
    "slideshow": {
     "slide_type": "subslide"
    }
   },
   "source": [
    "Object representation in Notebook is easier to read:"
   ]
  },
  {
   "cell_type": "code",
   "execution_count": 7,
   "metadata": {
    "internals": {
     "frag_helper": "fragment_end",
     "frag_number": 16
    },
    "slideshow": {
     "slide_type": "-"
    }
   },
   "outputs": [
    {
     "data": {
      "text/plain": [
       "{0: 0.04598732269847009,\n",
       " 1: 0.5698349972926072,\n",
       " 2: -1.4725751949171286,\n",
       " 3: 0.24542565718718376,\n",
       " 4: 1.2761387203363086,\n",
       " 5: 0.7952519160112349,\n",
       " 6: 1.2215290807141779,\n",
       " 7: 1.6008566453679285,\n",
       " 8: 0.906610082854089,\n",
       " 9: 0.9299421599251344}"
      ]
     },
     "execution_count": 7,
     "metadata": {},
     "output_type": "execute_result"
    }
   ],
   "source": [
    "from numpy.random import randn\n",
    "data = {i : randn() for i in range(10)}\n",
    "data"
   ]
  },
  {
   "cell_type": "markdown",
   "metadata": {
    "internals": {
     "frag_helper": "fragment_end",
     "frag_number": 16
    },
    "slideshow": {
     "slide_type": "-"
    }
   },
   "source": [
    "Compared with the following"
   ]
  },
  {
   "cell_type": "code",
   "execution_count": 8,
   "metadata": {
    "internals": {
     "frag_helper": "fragment_end",
     "frag_number": 16,
     "slide_helper": "subslide_end"
    },
    "slide_helper": "subslide_end",
    "slideshow": {
     "slide_type": "-"
    }
   },
   "outputs": [
    {
     "name": "stdout",
     "output_type": "stream",
     "text": [
      "{0: 0.34952887400303906, 1: -1.0126399836849957, 2: 0.800162344661422, 3: -1.0086818688635044, 4: 1.9041256777437436, 5: 1.3234285404020365, 6: -0.130912096865521}\n"
     ]
    }
   ],
   "source": [
    ">>> from numpy.random import randn\n",
    ">>> data = {i : randn() for i in range(7)}\n",
    ">>> print(data) # A little trick to see the console output"
   ]
  },
  {
   "cell_type": "markdown",
   "metadata": {
    "internals": {
     "frag_helper": "fragment_end",
     "frag_number": 16,
     "slide_type": "subslide"
    },
    "slideshow": {
     "slide_type": "subslide"
    }
   },
   "source": [
    "You can try code snippets (from tutorials, for example):"
   ]
  },
  {
   "cell_type": "code",
   "execution_count": 9,
   "metadata": {
    "internals": {
     "frag_helper": "fragment_end",
     "frag_number": 16
    },
    "slideshow": {
     "slide_type": "-"
    }
   },
   "outputs": [
    {
     "name": "stdout",
     "output_type": "stream",
     "text": [
      "Hello attendees!\n"
     ]
    }
   ],
   "source": [
    ">>> the_world_is_flat = 1\n",
    ">>> if the_world_is_flat:\n",
    "...     print (\"Hello attendees!\")"
   ]
  },
  {
   "cell_type": "code",
   "execution_count": 10,
   "metadata": {
    "internals": {
     "frag_helper": "fragment_end",
     "frag_number": 16
    },
    "slideshow": {
     "slide_type": "-"
    }
   },
   "outputs": [
    {
     "name": "stdout",
     "output_type": "stream",
     "text": [
      "0\n",
      "1\n",
      "2\n",
      "3\n",
      "4\n",
      "5\n",
      "6\n",
      "7\n",
      "8\n",
      "9\n"
     ]
    }
   ],
   "source": [
    "for x in range(10):\n",
    "    print(x)"
   ]
  },
  {
   "cell_type": "code",
   "execution_count": 11,
   "metadata": {
    "internals": {
     "frag_helper": "fragment_end",
     "frag_number": 16,
     "slide_helper": "subslide_end"
    },
    "slide_helper": "subslide_end",
    "slideshow": {
     "slide_type": "-"
    }
   },
   "outputs": [
    {
     "data": {
      "text/plain": [
       "[0, 1, 4, 9, 16, 25, 36]"
      ]
     },
     "execution_count": 11,
     "metadata": {},
     "output_type": "execute_result"
    }
   ],
   "source": [
    "In [10]: [x*x for x in range(7)]"
   ]
  },
  {
   "cell_type": "markdown",
   "metadata": {
    "internals": {
     "frag_helper": "fragment_end",
     "frag_number": 16,
     "slide_type": "subslide"
    },
    "slideshow": {
     "slide_type": "subslide"
    }
   },
   "source": [
    "You can see errors and *tracebacks* visually in each cell:"
   ]
  },
  {
   "cell_type": "code",
   "execution_count": 12,
   "metadata": {
    "internals": {
     "frag_helper": "fragment_end",
     "frag_number": 16
    },
    "slideshow": {
     "slide_type": "-"
    }
   },
   "outputs": [
    {
     "name": "stderr",
     "output_type": "stream",
     "text": [
      "ERROR:root:File `'non_existent_file.py'` not found.\n"
     ]
    }
   ],
   "source": [
    "%run non_existent_file"
   ]
  },
  {
   "cell_type": "code",
   "execution_count": 13,
   "metadata": {
    "internals": {
     "frag_helper": "fragment_end",
     "frag_number": 16,
     "slide_helper": "subslide_end"
    },
    "slide_helper": "subslide_end",
    "slideshow": {
     "slide_type": "-"
    }
   },
   "outputs": [
    {
     "ename": "ZeroDivisionError",
     "evalue": "division by zero",
     "output_type": "error",
     "traceback": [
      "\u001b[0;31m---------------------------------------------------------------------------\u001b[0m",
      "\u001b[0;31mZeroDivisionError\u001b[0m                         Traceback (most recent call last)",
      "\u001b[0;32m<ipython-input-13-438728ef6815>\u001b[0m in \u001b[0;36m<module>\u001b[0;34m()\u001b[0m\n\u001b[1;32m      1\u001b[0m \u001b[0mx\u001b[0m \u001b[0;34m=\u001b[0m \u001b[0;36m1\u001b[0m\u001b[0;34m\u001b[0m\u001b[0m\n\u001b[1;32m      2\u001b[0m \u001b[0my\u001b[0m \u001b[0;34m=\u001b[0m \u001b[0;36m4\u001b[0m\u001b[0;34m\u001b[0m\u001b[0m\n\u001b[0;32m----> 3\u001b[0;31m \u001b[0mz\u001b[0m \u001b[0;34m=\u001b[0m \u001b[0my\u001b[0m\u001b[0;34m/\u001b[0m\u001b[0;34m(\u001b[0m\u001b[0;36m1\u001b[0m\u001b[0;34m-\u001b[0m\u001b[0mx\u001b[0m\u001b[0;34m)\u001b[0m\u001b[0;34m\u001b[0m\u001b[0m\n\u001b[0m\u001b[1;32m      4\u001b[0m \u001b[0mz\u001b[0m\u001b[0;34m\u001b[0m\u001b[0m\n",
      "\u001b[0;31mZeroDivisionError\u001b[0m: division by zero"
     ]
    }
   ],
   "source": [
    "x = 1\n",
    "y = 4\n",
    "z = y/(1-x)\n",
    "z"
   ]
  },
  {
   "cell_type": "markdown",
   "metadata": {
    "internals": {
     "frag_helper": "fragment_end",
     "frag_number": 16,
     "slide_type": "subslide"
    },
    "slideshow": {
     "slide_type": "subslide"
    }
   },
   "source": [
    "Other advantages that might make you replace your editor:\n",
    "\n",
    "* Tab completion"
   ]
  },
  {
   "cell_type": "code",
   "execution_count": 14,
   "metadata": {
    "internals": {
     "frag_helper": "fragment_end",
     "frag_number": 16
    },
    "slideshow": {
     "slide_type": "-"
    }
   },
   "outputs": [],
   "source": [
    "import scipy as sp"
   ]
  },
  {
   "cell_type": "code",
   "execution_count": null,
   "metadata": {
    "internals": {
     "frag_helper": "fragment_end",
     "frag_number": 16,
     "slide_helper": "subslide_end"
    },
    "slide_helper": "subslide_end",
    "slideshow": {
     "slide_type": "-"
    }
   },
   "outputs": [],
   "source": [
    "sp."
   ]
  },
  {
   "cell_type": "markdown",
   "metadata": {
    "internals": {
     "frag_helper": "fragment_end",
     "frag_number": 16,
     "slide_type": "subslide"
    },
    "slideshow": {
     "slide_type": "subslide"
    }
   },
   "source": [
    "* Integrated help"
   ]
  },
  {
   "cell_type": "code",
   "execution_count": 15,
   "metadata": {
    "internals": {
     "frag_helper": "fragment_end",
     "frag_number": 16
    },
    "slideshow": {
     "slide_type": "-"
    }
   },
   "outputs": [],
   "source": [
    "?"
   ]
  },
  {
   "cell_type": "code",
   "execution_count": 16,
   "metadata": {
    "internals": {
     "frag_helper": "fragment_end",
     "frag_number": 16
    },
    "slideshow": {
     "slide_type": "-"
    }
   },
   "outputs": [],
   "source": [
    "def sum(a, b):\n",
    "    \"\"\"\n",
    "    Demo of a terribly useful function\n",
    "    \"\"\"\n",
    "    return a + b"
   ]
  },
  {
   "cell_type": "code",
   "execution_count": 17,
   "metadata": {
    "internals": {
     "frag_helper": "fragment_end",
     "frag_number": 16
    },
    "slideshow": {
     "slide_type": "-"
    }
   },
   "outputs": [],
   "source": [
    "sum?"
   ]
  },
  {
   "cell_type": "code",
   "execution_count": 18,
   "metadata": {
    "internals": {
     "frag_helper": "fragment_end",
     "frag_number": 16,
     "slide_helper": "subslide_end"
    },
    "slide_helper": "subslide_end",
    "slideshow": {
     "slide_type": "-"
    }
   },
   "outputs": [],
   "source": [
    "sum??"
   ]
  },
  {
   "cell_type": "markdown",
   "metadata": {
    "internals": {
     "frag_helper": "fragment_end",
     "frag_number": 16,
     "slide_type": "subslide"
    },
    "slideshow": {
     "slide_type": "subslide"
    }
   },
   "source": [
    "* Interactive shortcuts (aliases, magics)"
   ]
  },
  {
   "cell_type": "code",
   "execution_count": 19,
   "metadata": {
    "internals": {
     "frag_helper": "fragment_end",
     "frag_number": 16
    },
    "slideshow": {
     "slide_type": "-"
    }
   },
   "outputs": [],
   "source": [
    "%magic"
   ]
  },
  {
   "cell_type": "code",
   "execution_count": 20,
   "metadata": {
    "internals": {
     "frag_helper": "fragment_end",
     "frag_number": 16
    },
    "slideshow": {
     "slide_type": "-"
    }
   },
   "outputs": [
    {
     "data": {
      "application/json": {
       "cell": {
        "!": "OSMagics",
        "HTML": "Other",
        "SVG": "Other",
        "bash": "Other",
        "capture": "ExecutionMagics",
        "debug": "ExecutionMagics",
        "file": "Other",
        "html": "DisplayMagics",
        "javascript": "DisplayMagics",
        "js": "DisplayMagics",
        "latex": "DisplayMagics",
        "markdown": "DisplayMagics",
        "perl": "Other",
        "prun": "ExecutionMagics",
        "pypy": "Other",
        "python": "Other",
        "python2": "Other",
        "python3": "Other",
        "ruby": "Other",
        "script": "ScriptMagics",
        "sh": "Other",
        "svg": "DisplayMagics",
        "sx": "OSMagics",
        "system": "OSMagics",
        "time": "ExecutionMagics",
        "timeit": "ExecutionMagics",
        "writefile": "OSMagics"
       },
       "line": {
        "alias": "OSMagics",
        "alias_magic": "BasicMagics",
        "autocall": "AutoMagics",
        "automagic": "AutoMagics",
        "autosave": "KernelMagics",
        "bookmark": "OSMagics",
        "cat": "Other",
        "cd": "OSMagics",
        "clear": "KernelMagics",
        "colors": "BasicMagics",
        "config": "ConfigMagics",
        "connect_info": "KernelMagics",
        "cp": "Other",
        "debug": "ExecutionMagics",
        "dhist": "OSMagics",
        "dirs": "OSMagics",
        "doctest_mode": "BasicMagics",
        "ed": "Other",
        "edit": "KernelMagics",
        "env": "OSMagics",
        "gui": "BasicMagics",
        "hist": "Other",
        "history": "HistoryMagics",
        "killbgscripts": "ScriptMagics",
        "ldir": "Other",
        "less": "KernelMagics",
        "lf": "Other",
        "lk": "Other",
        "ll": "Other",
        "load": "CodeMagics",
        "load_ext": "ExtensionMagics",
        "loadpy": "CodeMagics",
        "logoff": "LoggingMagics",
        "logon": "LoggingMagics",
        "logstart": "LoggingMagics",
        "logstate": "LoggingMagics",
        "logstop": "LoggingMagics",
        "ls": "Other",
        "lsmagic": "BasicMagics",
        "lx": "Other",
        "macro": "ExecutionMagics",
        "magic": "BasicMagics",
        "man": "KernelMagics",
        "matplotlib": "PylabMagics",
        "mkdir": "Other",
        "more": "KernelMagics",
        "mv": "Other",
        "notebook": "BasicMagics",
        "page": "BasicMagics",
        "pastebin": "CodeMagics",
        "pdb": "ExecutionMagics",
        "pdef": "NamespaceMagics",
        "pdoc": "NamespaceMagics",
        "pfile": "NamespaceMagics",
        "pinfo": "NamespaceMagics",
        "pinfo2": "NamespaceMagics",
        "pip": "BasicMagics",
        "popd": "OSMagics",
        "pprint": "BasicMagics",
        "precision": "BasicMagics",
        "profile": "BasicMagics",
        "prun": "ExecutionMagics",
        "psearch": "NamespaceMagics",
        "psource": "NamespaceMagics",
        "pushd": "OSMagics",
        "pwd": "OSMagics",
        "pycat": "OSMagics",
        "pylab": "PylabMagics",
        "qtconsole": "KernelMagics",
        "quickref": "BasicMagics",
        "recall": "HistoryMagics",
        "rehashx": "OSMagics",
        "reload_ext": "ExtensionMagics",
        "rep": "Other",
        "rerun": "HistoryMagics",
        "reset": "NamespaceMagics",
        "reset_selective": "NamespaceMagics",
        "rm": "Other",
        "rmdir": "Other",
        "run": "ExecutionMagics",
        "save": "CodeMagics",
        "sc": "OSMagics",
        "set_env": "OSMagics",
        "store": "StoreMagics",
        "sx": "OSMagics",
        "system": "OSMagics",
        "tb": "ExecutionMagics",
        "time": "ExecutionMagics",
        "timeit": "ExecutionMagics",
        "unalias": "OSMagics",
        "unload_ext": "ExtensionMagics",
        "who": "NamespaceMagics",
        "who_ls": "NamespaceMagics",
        "whos": "NamespaceMagics",
        "xdel": "NamespaceMagics",
        "xmode": "BasicMagics"
       }
      },
      "text/plain": [
       "Available line magics:\n",
       "%alias  %alias_magic  %autocall  %automagic  %autosave  %bookmark  %cat  %cd  %clear  %colors  %config  %connect_info  %cp  %debug  %dhist  %dirs  %doctest_mode  %ed  %edit  %env  %gui  %hist  %history  %killbgscripts  %ldir  %less  %lf  %lk  %ll  %load  %load_ext  %loadpy  %logoff  %logon  %logstart  %logstate  %logstop  %ls  %lsmagic  %lx  %macro  %magic  %man  %matplotlib  %mkdir  %more  %mv  %notebook  %page  %pastebin  %pdb  %pdef  %pdoc  %pfile  %pinfo  %pinfo2  %popd  %pprint  %precision  %profile  %prun  %psearch  %psource  %pushd  %pwd  %pycat  %pylab  %qtconsole  %quickref  %recall  %rehashx  %reload_ext  %rep  %rerun  %reset  %reset_selective  %rm  %rmdir  %run  %save  %sc  %set_env  %store  %sx  %system  %tb  %time  %timeit  %unalias  %unload_ext  %who  %who_ls  %whos  %xdel  %xmode\n",
       "\n",
       "Available cell magics:\n",
       "%%!  %%HTML  %%SVG  %%bash  %%capture  %%debug  %%file  %%html  %%javascript  %%js  %%latex  %%markdown  %%perl  %%prun  %%pypy  %%python  %%python2  %%python3  %%ruby  %%script  %%sh  %%svg  %%sx  %%system  %%time  %%timeit  %%writefile\n",
       "\n",
       "Automagic is ON, % prefix IS NOT needed for line magics."
      ]
     },
     "execution_count": 20,
     "metadata": {},
     "output_type": "execute_result"
    }
   ],
   "source": [
    "%lsmagic"
   ]
  },
  {
   "cell_type": "code",
   "execution_count": 21,
   "metadata": {
    "internals": {
     "frag_helper": "fragment_end",
     "frag_number": 16,
     "slide_helper": "subslide_end"
    },
    "slide_helper": "subslide_end",
    "slideshow": {
     "slide_type": "-"
    }
   },
   "outputs": [],
   "source": [
    "%quickref"
   ]
  },
  {
   "cell_type": "markdown",
   "metadata": {
    "internals": {
     "frag_helper": "fragment_end",
     "frag_number": 16,
     "slide_helper": "subslide_end",
     "slide_type": "subslide"
    },
    "slide_helper": "subslide_end",
    "slideshow": {
     "slide_type": "subslide"
    }
   },
   "source": [
    "There are aslo *cell magics* (`%%`) with which one can use Notebook to run code in other languages, such as:\n",
    "\n",
    "* R\n",
    "* Octave\n",
    "* Cython\n",
    "* Bash\n",
    "* Perl\n",
    "* Ruby\n",
    "* etc."
   ]
  },
  {
   "cell_type": "markdown",
   "metadata": {
    "internals": {
     "frag_helper": "fragment_end",
     "frag_number": 16,
     "slide_type": "subslide"
    },
    "slideshow": {
     "slide_type": "subslide"
    }
   },
   "source": [
    "Code can be combined with *magics*, making complex tasks simple:"
   ]
  },
  {
   "cell_type": "code",
   "execution_count": 22,
   "metadata": {
    "internals": {
     "frag_helper": "fragment_end",
     "frag_number": 16
    },
    "slideshow": {
     "slide_type": "-"
    }
   },
   "outputs": [
    {
     "name": "stdout",
     "output_type": "stream",
     "text": [
      "def my_function(x, y):\n",
      "    \"\"\"\n",
      "    Demo\n",
      "    \"\"\"\n",
      "    return x / y\n",
      "\n",
      "x = 4\n",
      "y = 2\n",
      "\n",
      "result = my_function(x, y)"
     ]
    },
    {
     "name": "stderr",
     "output_type": "stream",
     "text": [
      "mkdir: cannot create directory ‘tmp/’: File exists\n"
     ]
    }
   ],
   "source": [
    "%%bash\n",
    "mkdir tmp/\n",
    "touch tmp/my_program.py\n",
    "cat tmp/my_program.py"
   ]
  },
  {
   "cell_type": "code",
   "execution_count": 23,
   "metadata": {
    "internals": {
     "frag_helper": "fragment_end",
     "frag_number": 16
    },
    "slideshow": {
     "slide_type": "-"
    }
   },
   "outputs": [
    {
     "name": "stdout",
     "output_type": "stream",
     "text": [
      "Overwriting tmp/my_program.py\n"
     ]
    }
   ],
   "source": [
    "%%writefile tmp/my_program.py\n",
    "def my_function(x, y):\n",
    "    \"\"\"\n",
    "    Demo\n",
    "    \"\"\"\n",
    "    return x / y\n",
    "\n",
    "x = 4\n",
    "y = 2\n",
    "\n",
    "result = my_function(x, y)"
   ]
  },
  {
   "cell_type": "code",
   "execution_count": 24,
   "metadata": {
    "internals": {
     "frag_helper": "fragment_end",
     "frag_number": 16
    },
    "slideshow": {
     "slide_type": "-"
    }
   },
   "outputs": [],
   "source": [
    "%run tmp/my_program.py"
   ]
  },
  {
   "cell_type": "code",
   "execution_count": 25,
   "metadata": {
    "internals": {
     "frag_helper": "fragment_end",
     "frag_number": 16,
     "slide_helper": "subslide_end"
    },
    "slide_helper": "subslide_end",
    "slideshow": {
     "slide_type": "-"
    }
   },
   "outputs": [
    {
     "data": {
      "text/plain": [
       "2.0"
      ]
     },
     "execution_count": 25,
     "metadata": {},
     "output_type": "execute_result"
    }
   ],
   "source": [
    "result"
   ]
  },
  {
   "cell_type": "markdown",
   "metadata": {
    "internals": {
     "frag_helper": "fragment_end",
     "frag_number": 16,
     "slide_type": "subslide"
    },
    "slideshow": {
     "slide_type": "subslide"
    }
   },
   "source": [
    "It's easy to interact with the operating system (no more os.system calls and pipes!):"
   ]
  },
  {
   "cell_type": "code",
   "execution_count": 26,
   "metadata": {
    "internals": {
     "frag_helper": "fragment_end",
     "frag_number": 16
    },
    "slideshow": {
     "slide_type": "-"
    }
   },
   "outputs": [
    {
     "name": "stdout",
     "output_type": "stream",
     "text": [
      "/home/beltrame/Documents/Presentations/2015/NotebookTutorial\r\n"
     ]
    }
   ],
   "source": [
    "!pwd"
   ]
  },
  {
   "cell_type": "code",
   "execution_count": 23,
   "metadata": {
    "internals": {
     "frag_helper": "fragment_end",
     "frag_number": 16
    },
    "slideshow": {
     "slide_type": "-"
    }
   },
   "outputs": [
    {
     "name": "stdout",
     "output_type": "stream",
     "text": [
      "My current directory's files:\n",
      "['content', 'images', 'IPython_Workshop.css', 'IPython_Workshop.ipynb', 'README.md', 'tmp']\n"
     ]
    }
   ],
   "source": [
    "files = !ls\n",
    "print (\"My current directory's files:\")\n",
    "print (files)"
   ]
  },
  {
   "cell_type": "code",
   "execution_count": 24,
   "metadata": {
    "internals": {
     "frag_helper": "fragment_end",
     "frag_number": 16
    },
    "slideshow": {
     "slide_type": "-"
    }
   },
   "outputs": [
    {
     "name": "stdout",
     "output_type": "stream",
     "text": [
      "[content, images, IPython_Workshop.css, IPython_Workshop.ipynb, README.md, tmp]\r\n"
     ]
    }
   ],
   "source": [
    "!echo $files"
   ]
  },
  {
   "cell_type": "code",
   "execution_count": 25,
   "metadata": {
    "internals": {
     "frag_helper": "fragment_end",
     "frag_number": 16,
     "slide_helper": "subslide_end"
    },
    "slide_helper": "subslide_end",
    "slideshow": {
     "slide_type": "-"
    }
   },
   "outputs": [
    {
     "name": "stdout",
     "output_type": "stream",
     "text": [
      "CONTENT\r\n"
     ]
    }
   ],
   "source": [
    "!echo {files[0].upper()}"
   ]
  },
  {
   "cell_type": "markdown",
   "metadata": {
    "internals": {
     "frag_helper": "fragment_end",
     "frag_number": 16,
     "slide_type": "subslide"
    },
    "slideshow": {
     "slide_type": "subslide"
    }
   },
   "source": [
    "We can also generate figures using matplotlib:"
   ]
  },
  {
   "cell_type": "code",
   "execution_count": 27,
   "metadata": {
    "internals": {
     "frag_helper": "fragment_end",
     "frag_number": 16,
     "slide_helper": "subslide_end"
    },
    "slide_helper": "slide_end",
    "slideshow": {
     "slide_type": "-"
    }
   },
   "outputs": [
    {
     "data": {
      "image/png": "[encoded data removed]",
      "text/plain": [
       "<Figure size 432x288 with 1 Axes>"
      ]
     },
     "metadata": {},
     "output_type": "display_data"
    }
   ],
   "source": [
    "%matplotlib inline\n",
    "import numpy as np\n",
    "import matplotlib.pyplot as plt\n",
    "\n",
    "x = np.linspace(0, 3*np.pi, 500)\n",
    "y = np.sin(x**2)\n",
    "fig = plt.figure()\n",
    "axes = fig.add_axes([0.1, 0.1, 0.8, 0.8])\n",
    "axes.plot(x, y, 'r')\n",
    "axes.set_xlabel('x')\n",
    "axes.set_ylabel('sin x^2')\n",
    "axes.set_title('A simple figure');"
   ]
  },
  {
   "cell_type": "markdown",
   "metadata": {
    "internals": {
     "frag_helper": "fragment_end",
     "frag_number": 16,
     "slide_type": "subslide"
    },
    "slideshow": {
     "slide_type": "slide"
    }
   },
   "source": [
    "## Document your workflow"
   ]
  },
  {
   "cell_type": "markdown",
   "metadata": {
    "internals": {
     "frag_helper": "fragment_end",
     "frag_number": 16,
     "slide_helper": "subslide_end"
    },
    "slide_helper": "subslide_end",
    "slideshow": {
     "slide_type": "-"
    }
   },
   "source": [
    "Text can be rendered via `Markdown`, for example you can use *italics*, **bold** or introduce [links](http://www.google.com).\n",
    "\n",
    "You can easily make numbered and bulleted lists:\n",
    "\n",
    "1. First\n",
    "2. Second\n",
    "3. Third\n",
    "\n",
    "\n",
    "* car\n",
    "* bicycle\n",
    "* motorbike"
   ]
  },
  {
   "cell_type": "markdown",
   "metadata": {
    "internals": {
     "frag_helper": "fragment_end",
     "frag_number": 16,
     "slide_helper": "subslide_end",
     "slide_type": "subslide"
    },
    "slide_helper": "subslide_end",
    "slideshow": {
     "slide_type": "subslide"
    }
   },
   "source": [
    "You can embed demonstration code, in Python for example:\n",
    "```python\n",
    "    def f(x):\n",
    "        \"\"\"a docstring\"\"\"\n",
    "        return x**2\n",
    "```\n",
    "Or in other languages:\n",
    "```javascript\n",
    "    if (i=0; i<n; i++) {\n",
    "      printf(\"hello %d\\n\", i);\n",
    "      x += 4;\n",
    "    }\n",
    "```"
   ]
  },
  {
   "cell_type": "markdown",
   "metadata": {
    "internals": {
     "frag_helper": "fragment_end",
     "frag_number": 16,
     "slide_helper": "subslide_end",
     "slide_type": "subslide"
    },
    "slide_helper": "slide_end",
    "slideshow": {
     "slide_type": "subslide"
    }
   },
   "source": [
    "IPython Notebook supports MathJax, so you can use LaTeX-like math `inline`: \n",
    "$e^{i\\pi} + 1 = 0$ or as `blocks`:\n",
    "\n",
    "$$e^x=\\sum_{i=0}^\\infty \\frac{1}{i!}x^i$$"
   ]
  },
  {
   "cell_type": "markdown",
   "metadata": {
    "internals": {
     "frag_helper": "fragment_end",
     "frag_number": 16,
     "slide_type": "subslide"
    },
    "slideshow": {
     "slide_type": "slide"
    }
   },
   "source": [
    "### If the browser can show it, so can Notebook!"
   ]
  },
  {
   "cell_type": "code",
   "execution_count": 28,
   "metadata": {
    "internals": {
     "frag_helper": "fragment_end",
     "frag_number": 16,
     "slide_helper": "subslide_end"
    },
    "slide_helper": "subslide_end",
    "slideshow": {
     "slide_type": "-"
    }
   },
   "outputs": [],
   "source": [
    "from IPython.display import display"
   ]
  },
  {
   "cell_type": "markdown",
   "metadata": {
    "internals": {
     "frag_helper": "fragment_end",
     "frag_number": 16,
     "slide_type": "subslide"
    },
    "slideshow": {
     "slide_type": "subslide"
    }
   },
   "source": [
    "* Images:"
   ]
  },
  {
   "cell_type": "code",
   "execution_count": 28,
   "metadata": {
    "internals": {
     "frag_helper": "fragment_end",
     "frag_number": 16
    },
    "slideshow": {
     "slide_type": "-"
    }
   },
   "outputs": [
    {
     "data": {
      "image/png": "[encoded data removed]",
      "text/plain": [
       "<IPython.core.display.Image object>"
      ]
     },
     "execution_count": 28,
     "metadata": {},
     "output_type": "execute_result"
    }
   ],
   "source": [
    "from IPython.display import Image\n",
    "Image(filename='images/mistlogo.png') "
   ]
  },
  {
   "cell_type": "code",
   "execution_count": 29,
   "metadata": {
    "internals": {
     "frag_helper": "fragment_end",
     "frag_number": 16,
     "slide_helper": "subslide_end"
    },
    "slide_helper": "subslide_end",
    "slideshow": {
     "slide_type": "-"
    }
   },
   "outputs": [
    {
     "data": {
      "image/svg+xml": [
       "<svg height=\"132.5\" id=\"svg2\" inkscape:version=\"0.48.4 r9939\" sodipodi:docname=\"mistlogo.svg\" version=\"1.1\" width=\"308.75\" xml:space=\"preserve\" xmlns=\"http://www.w3.org/2000/svg\" xmlns:cc=\"http://creativecommons.org/ns#\" xmlns:dc=\"http://purl.org/dc/elements/1.1/\" xmlns:inkscape=\"http://www.inkscape.org/namespaces/inkscape\" xmlns:rdf=\"http://www.w3.org/1999/02/22-rdf-syntax-ns#\" xmlns:sodipodi=\"http://sodipodi.sourceforge.net/DTD/sodipodi-0.dtd\" xmlns:svg=\"http://www.w3.org/2000/svg\" xmlns:xlink=\"http://www.w3.org/1999/xlink\"><metadata id=\"metadata8\"><rdf:RDF><cc:Work rdf:about=\"\"><dc:format>image/svg+xml</dc:format><dc:type rdf:resource=\"http://purl.org/dc/dcmitype/StillImage\"/><dc:title/></cc:Work></rdf:RDF></metadata><defs id=\"defs6\"><clipPath clipPathUnits=\"userSpaceOnUse\" id=\"clipPath16\"><path d=\"m 0,0 255.11812,0 0,141.73228 L 0,141.73228 0,0 z\" id=\"path18\"/></clipPath><clipPath clipPathUnits=\"userSpaceOnUse\" id=\"clipPath20\"><path d=\"m 88.551,108.56 -15.36,-41.925 -15.472,41.925 -11.321,0 0,-79.816 12.555,0 0,49.215 10.649,-32.176 6.953,0 10.875,32.734 0,-49.773 12.554,0 0,79.816 -11.433,0 z\" id=\"path22\"/></clipPath><linearGradient gradientTransform=\"matrix(0,79.81904,79.81904,0,73.190369,28.74339)\" gradientUnits=\"userSpaceOnUse\" id=\"linearGradient24\" spreadMethod=\"pad\" x1=\"0\" x2=\"1\" y1=\"0\" y2=\"0\"><stop id=\"stop26\" offset=\"0\" style=\"stop-opacity:1;stop-color:#dbe7f0\"/><stop id=\"stop28\" offset=\"1\" style=\"stop-opacity:1;stop-color:#05507d\"/></linearGradient><clipPath clipPathUnits=\"userSpaceOnUse\" id=\"clipPath30\"><path d=\"m 143.816,104.416 c -4.371,-3.926 -6.5,-9.754 -6.5,-16.93 0,-12.332 3.028,-16.703 11.098,-20.066 l 9.527,-3.922 c 6.164,-2.469 7.512,-4.598 7.512,-13.117 0,-4.262 -0.449,-6.953 -2.129,-8.856 -1.234,-1.461 -3.14,-2.242 -6.054,-2.242 -2.805,0 -4.711,0.895 -5.832,2.129 -1.793,2.016 -2.243,4.707 -2.243,8.969 l -12.554,0 c 0,-8.41 1.347,-13.34 5.16,-17.153 3.359,-3.363 8.519,-5.269 15.469,-5.269 7.062,0 12.332,2.129 15.582,5.269 4.035,3.922 5.156,9.418 5.156,17.602 0,13.449 -2.578,18.496 -12.106,22.418 l -9.418,3.812 c -5.605,2.243 -6.613,4.262 -6.613,10.762 0,3.477 0.672,6.168 2.129,7.848 1.234,1.347 2.801,2.242 5.383,2.242 2.687,0 4.48,-0.895 5.601,-2.352 1.684,-2.132 1.907,-4.933 1.907,-8.523 l 12.558,0 c 0,7.625 -1.457,13.344 -5.605,17.379 -3.254,3.137 -7.961,4.82 -14.352,4.82 -5.715,0 -10.199,-1.793 -13.676,-4.82\" id=\"path32\"/></clipPath><linearGradient gradientTransform=\"matrix(0,81.27617,81.27617,0,157.32565,27.958383)\" gradientUnits=\"userSpaceOnUse\" id=\"linearGradient34\" spreadMethod=\"pad\" x1=\"0\" x2=\"1\" y1=\"0\" y2=\"0\"><stop id=\"stop36\" offset=\"0\" style=\"stop-opacity:1;stop-color:#dbe7f0\"/><stop id=\"stop38\" offset=\"1\" style=\"stop-opacity:1;stop-color:#05507d\"/></linearGradient><clipPath clipPathUnits=\"userSpaceOnUse\" id=\"clipPath40\"><path d=\"m 184.512,108.56 0,-11.32 13.34,0 0,-68.496 12.554,0 0,68.496 13.453,0 0,11.32 -39.347,0 z\" id=\"path42\"/></clipPath><linearGradient gradientTransform=\"matrix(0,79.81904,79.81904,0,204.1854,28.74339)\" gradientUnits=\"userSpaceOnUse\" id=\"linearGradient44\" spreadMethod=\"pad\" x1=\"0\" x2=\"1\" y1=\"0\" y2=\"0\"><stop id=\"stop46\" offset=\"0\" style=\"stop-opacity:1;stop-color:#dbe7f0\"/><stop id=\"stop48\" offset=\"1\" style=\"stop-opacity:1;stop-color:#05507d\"/></linearGradient><clipPath clipPathUnits=\"userSpaceOnUse\" id=\"clipPath50\"><path d=\"m 113.02,84.599 c 1.792,1.575 4.136,2.536 6.707,2.536 2.562,0 4.898,-0.965 6.683,-2.547 -1.262,8.918 -3.523,17.605 -6.695,26.008 -3.172,-8.399 -5.434,-17.082 -6.695,-25.997 m -0.68,-5.816 c -0.328,-3.594 -0.5,-7.223 -0.5,-10.883 0,-10 1.258,-19.777 3.652,-29.25 -4.308,-1.691 -7.363,-5.875 -7.363,-10.785 0,-0.914 0.117,-1.801 0.316,-2.656 0.985,4.187 4.235,7.5 8.387,8.562 0.859,-2.882 1.816,-5.742 2.883,-8.562 1.066,2.82 2.023,5.68 2.879,8.562 4.156,-1.062 7.406,-4.375 8.39,-8.562 0.2,0.855 0.317,1.742 0.317,2.656 0,4.91 -3.055,9.094 -7.363,10.785 2.39,9.473 3.648,19.25 3.648,29.25 0,3.61 -0.164,7.192 -0.488,10.739 -0.75,3.39 -3.77,5.933 -7.371,5.933 -3.575,0 -6.575,-2.473 -7.387,-5.789\" id=\"path52\"/></clipPath><linearGradient gradientTransform=\"matrix(0,85.386103,85.386103,0,119.71406,25.208912)\" gradientUnits=\"userSpaceOnUse\" id=\"linearGradient54\" spreadMethod=\"pad\" x1=\"0\" x2=\"1\" y1=\"0\" y2=\"0\"><stop id=\"stop56\" offset=\"0\" style=\"stop-opacity:1;stop-color:#dbe7f0\"/><stop id=\"stop58\" offset=\"1\" style=\"stop-opacity:1;stop-color:#05507d\"/></linearGradient><linearGradient gradientTransform=\"matrix(0,79.81904,79.81904,0,73.190369,28.74339)\" gradientUnits=\"userSpaceOnUse\" id=\"linearGradient3131\" inkscape:collect=\"always\" spreadMethod=\"pad\" x1=\"0\" x2=\"1\" xlink:href=\"#linearGradient24\" y1=\"0\" y2=\"0\"/><linearGradient gradientTransform=\"matrix(0,81.27617,81.27617,0,157.32565,27.958383)\" gradientUnits=\"userSpaceOnUse\" id=\"linearGradient3133\" inkscape:collect=\"always\" spreadMethod=\"pad\" x1=\"0\" x2=\"1\" xlink:href=\"#linearGradient34\" y1=\"0\" y2=\"0\"/><linearGradient gradientTransform=\"matrix(0,79.81904,79.81904,0,204.1854,28.74339)\" gradientUnits=\"userSpaceOnUse\" id=\"linearGradient3135\" inkscape:collect=\"always\" spreadMethod=\"pad\" x1=\"0\" x2=\"1\" xlink:href=\"#linearGradient44\" y1=\"0\" y2=\"0\"/><linearGradient gradientTransform=\"matrix(0,85.386103,85.386103,0,119.71406,25.208912)\" gradientUnits=\"userSpaceOnUse\" id=\"linearGradient3137\" inkscape:collect=\"always\" spreadMethod=\"pad\" x1=\"0\" x2=\"1\" xlink:href=\"#linearGradient54\" y1=\"0\" y2=\"0\"/><linearGradient gradientTransform=\"matrix(0,79.81904,79.81904,0,73.190369,28.74339)\" gradientUnits=\"userSpaceOnUse\" id=\"linearGradient3195\" inkscape:collect=\"always\" spreadMethod=\"pad\" x1=\"0\" x2=\"1\" xlink:href=\"#linearGradient24\" y1=\"0\" y2=\"0\"/><linearGradient gradientTransform=\"matrix(0,81.27617,81.27617,0,157.32565,27.958383)\" gradientUnits=\"userSpaceOnUse\" id=\"linearGradient3197\" inkscape:collect=\"always\" spreadMethod=\"pad\" x1=\"0\" x2=\"1\" xlink:href=\"#linearGradient34\" y1=\"0\" y2=\"0\"/><linearGradient gradientTransform=\"matrix(0,79.81904,79.81904,0,204.1854,28.74339)\" gradientUnits=\"userSpaceOnUse\" id=\"linearGradient3199\" inkscape:collect=\"always\" spreadMethod=\"pad\" x1=\"0\" x2=\"1\" xlink:href=\"#linearGradient44\" y1=\"0\" y2=\"0\"/><linearGradient gradientTransform=\"matrix(0,85.386103,85.386103,0,119.71406,25.208912)\" gradientUnits=\"userSpaceOnUse\" id=\"linearGradient3201\" inkscape:collect=\"always\" spreadMethod=\"pad\" x1=\"0\" x2=\"1\" xlink:href=\"#linearGradient54\" y1=\"0\" y2=\"0\"/></defs><sodipodi:namedview bordercolor=\"#666666\" borderopacity=\"1\" gridtolerance=\"10\" guidetolerance=\"10\" id=\"namedview4\" inkscape:current-layer=\"g12\" inkscape:cx=\"128.3415\" inkscape:cy=\"57.804567\" inkscape:pageopacity=\"0\" inkscape:pageshadow=\"2\" inkscape:window-height=\"1030\" inkscape:window-maximized=\"1\" inkscape:window-width=\"1918\" inkscape:window-x=\"0\" inkscape:window-y=\"0\" inkscape:zoom=\"3.8089069\" objecttolerance=\"10\" pagecolor=\"#ffffff\" showgrid=\"false\"/><g id=\"g10\" inkscape:groupmode=\"layer\" inkscape:label=\"mistlogo\" transform=\"matrix(1.25,0,0,-1.25,0,132.5)\"><g id=\"g12\" transform=\"translate(-6,-25)\"><g id=\"g14\"/><path d=\"M 154.15625 69.125 C 139.88707 69.125 125.87392 70.1684 112.15625 72.15625 L 112.15625 77.0625 C 125.90598 75.286369 139.92277 74.375 154.15625 74.375 C 209.36625 74.375 261.36875 88.17625 306.90625 112.46875 C 262.52125 85.0025 210.18625 69.125 154.15625 69.125 z M 59.5625 84.875 C 39.059248 91.934668 19.578986 101.24247 1.4375 112.46875 C 19.831725 102.65506 39.27448 94.542713 59.5625 88.375 L 59.5625 84.875 z \" id=\"path66\" style=\"fill:#d91920;fill-opacity:1;fill-rule:nonzero;stroke:none\" transform=\"matrix(0.8,0,0,-0.8,6,131)\"/><path d=\"M 154.15625 67.875 C 139.13089 67.875 124.20664 69.013775 109.5 71.28125 L 109.5 73.84375 C 124.20891 71.554975 139.12448 70.375 154.15625 70.375 C 193.2475 70.375 231.68375 78.215 267.25 93.3125 C 231.22 80.03625 192.78375 73.125 154.15625 73.125 C 139.19565 73.125 124.27246 74.208232 109.5 76.25 L 109.5 78.75 C 124.27181 76.692153 139.19188 75.625 154.15625 75.625 C 207.17875 75.625 259.79375 88.7475 306.3125 113.5625 L 307.5625 111.40625 C 261.54625 82.935 208.4925 67.875 154.15625 67.875 z M 56.90625 84.53125 C 37.376257 91.428457 18.545735 100.41378 0.78125 111.40625 L 2.03125 113.5625 C 19.561085 104.21037 37.948734 96.515291 56.90625 90.5625 L 56.90625 87.96875 C 51.593289 89.623077 46.313098 91.389287 41.09375 93.3125 C 46.303448 91.101349 51.581468 89.08607 56.90625 87.1875 L 56.90625 84.53125 z \" id=\"path68\" style=\"fill:#d91920;fill-opacity:1;fill-rule:nonzero;stroke:none\" transform=\"matrix(0.8,0,0,-0.8,6,131)\"/><path d=\"m 109.551,76.986 2.566,0 c 0,0.621 0.082,1.219 0.223,1.797 0.18,1.949 0.406,3.887 0.68,5.816 -2.122,-1.859 -3.469,-4.578 -3.469,-7.613\" id=\"path70\" inkscape:connector-curvature=\"0\" style=\"fill:#ffffff;fill-opacity:1;fill-rule:nonzero;stroke:none\"/><g id=\"g74\"><g clip-path=\"url(#clipPath20)\" id=\"g76\"><g id=\"g78\"><path d=\"m 88.551,108.56 -15.36,-41.925 -15.472,41.925 -11.321,0 0,-79.816 12.555,0 0,49.215 10.649,-32.176 6.953,0 10.875,32.734 0,-49.773 12.554,0 0,79.816 -11.433,0 z\" id=\"path80\" inkscape:connector-curvature=\"0\" style=\"fill:url(#linearGradient3195);stroke:none\"/></g></g></g><g id=\"g82\"><g clip-path=\"url(#clipPath30)\" id=\"g84\"><g id=\"g86\"><path d=\"m 143.816,104.416 c -4.371,-3.926 -6.5,-9.754 -6.5,-16.93 0,-12.332 3.028,-16.703 11.098,-20.066 l 9.527,-3.922 c 6.164,-2.469 7.512,-4.598 7.512,-13.117 0,-4.262 -0.449,-6.953 -2.129,-8.856 -1.234,-1.461 -3.14,-2.242 -6.054,-2.242 -2.805,0 -4.711,0.895 -5.832,2.129 -1.793,2.016 -2.243,4.707 -2.243,8.969 l -12.554,0 c 0,-8.41 1.347,-13.34 5.16,-17.153 3.359,-3.363 8.519,-5.269 15.469,-5.269 7.062,0 12.332,2.129 15.582,5.269 4.035,3.922 5.156,9.418 5.156,17.602 0,13.449 -2.578,18.496 -12.106,22.418 l -9.418,3.812 c -5.605,2.243 -6.613,4.262 -6.613,10.762 0,3.477 0.672,6.168 2.129,7.848 1.234,1.347 2.801,2.242 5.383,2.242 2.687,0 4.48,-0.895 5.601,-2.352 1.684,-2.132 1.907,-4.933 1.907,-8.523 l 12.558,0 c 0,7.625 -1.457,13.344 -5.605,17.379 -3.254,3.137 -7.961,4.82 -14.352,4.82 -5.715,0 -10.199,-1.793 -13.676,-4.82\" id=\"path88\" inkscape:connector-curvature=\"0\" style=\"fill:url(#linearGradient3197);stroke:none\"/></g></g></g><g id=\"g90\"><g clip-path=\"url(#clipPath40)\" id=\"g92\"><g id=\"g94\"><path d=\"m 184.512,108.56 0,-11.32 13.34,0 0,-68.496 12.554,0 0,68.496 13.453,0 0,11.32 -39.347,0 z\" id=\"path96\" inkscape:connector-curvature=\"0\" style=\"fill:url(#linearGradient3199);stroke:none\"/></g></g></g><g id=\"g98\"><g clip-path=\"url(#clipPath50)\" id=\"g100\"><g id=\"g102\"><path d=\"m 113.02,84.599 c 1.792,1.575 4.136,2.536 6.707,2.536 2.562,0 4.898,-0.965 6.683,-2.547 -1.262,8.918 -3.523,17.605 -6.695,26.008 -3.172,-8.399 -5.434,-17.082 -6.695,-25.997 m -0.68,-5.816 c -0.328,-3.594 -0.5,-7.223 -0.5,-10.883 0,-10 1.258,-19.777 3.652,-29.25 -4.308,-1.691 -7.363,-5.875 -7.363,-10.785 0,-0.914 0.117,-1.801 0.316,-2.656 0.985,4.187 4.235,7.5 8.387,8.562 0.859,-2.882 1.816,-5.742 2.883,-8.562 1.066,2.82 2.023,5.68 2.879,8.562 4.156,-1.062 7.406,-4.375 8.39,-8.562 0.2,0.855 0.317,1.742 0.317,2.656 0,4.91 -3.055,9.094 -7.363,10.785 2.39,9.473 3.648,19.25 3.648,29.25 0,3.61 -0.164,7.192 -0.488,10.739 -0.75,3.39 -3.77,5.933 -7.371,5.933 -3.575,0 -6.575,-2.473 -7.387,-5.789\" id=\"path104\" inkscape:connector-curvature=\"0\" style=\"fill:url(#linearGradient3201);stroke:none\"/></g></g></g><path d=\"m 117.27,123.299 -7.903,0 6.395,-4.645 -2.446,-7.519 6.399,4.644 6.394,-4.644 -2.441,7.519 6.394,4.645 -7.906,0 -2.441,7.519 -2.445,-7.519 z\" id=\"path106\" inkscape:connector-curvature=\"0\" style=\"fill:#d91920;fill-opacity:1;fill-rule:nonzero;stroke:none\"/></g></g></svg>"
      ],
      "text/plain": [
       "<IPython.core.display.SVG object>"
      ]
     },
     "execution_count": 29,
     "metadata": {},
     "output_type": "execute_result"
    }
   ],
   "source": [
    "from IPython.display import SVG\n",
    "SVG(filename='images/mistlogo.svg')"
   ]
  },
  {
   "cell_type": "markdown",
   "metadata": {
    "internals": {
     "frag_helper": "fragment_end",
     "frag_number": 16,
     "slide_type": "subslide"
    },
    "slideshow": {
     "slide_type": "subslide"
    }
   },
   "source": [
    "* Video:"
   ]
  },
  {
   "cell_type": "markdown",
   "metadata": {
    "internals": {
     "frag_helper": "fragment_end",
     "frag_number": 16
    },
    "slideshow": {
     "slide_type": "-"
    }
   },
   "source": [
    "You can embed Youtube, Vimeo, etc..."
   ]
  },
  {
   "cell_type": "code",
   "execution_count": 30,
   "metadata": {
    "internals": {
     "frag_helper": "fragment_end",
     "frag_number": 16,
     "slide_helper": "subslide_end"
    },
    "slide_helper": "subslide_end",
    "slideshow": {
     "slide_type": "-"
    }
   },
   "outputs": [
    {
     "data": {
      "image/jpeg": "[encoded data removed]",
      "text/html": [
       "\n",
       "        <iframe\n",
       "            width=\"400\"\n",
       "            height=\"300\"\n",
       "            src=\"https://www.youtube.com/embed/k7uFAgHQ92M\"\n",
       "            frameborder=\"0\"\n",
       "            allowfullscreen\n",
       "        ></iframe>\n",
       "        "
      ],
      "text/plain": [
       "<IPython.lib.display.YouTubeVideo at 0x7fe4799cdc50>"
      ]
     },
     "execution_count": 30,
     "metadata": {},
     "output_type": "execute_result"
    }
   ],
   "source": [
    "from IPython.display import YouTubeVideo\n",
    "YouTubeVideo('k7uFAgHQ92M')"
   ]
  },
  {
   "cell_type": "markdown",
   "metadata": {
    "internals": {
     "frag_helper": "fragment_end",
     "frag_number": 16,
     "slide_type": "subslide"
    },
    "slideshow": {
     "slide_type": "subslide"
    }
   },
   "source": [
    "* HTML"
   ]
  },
  {
   "cell_type": "code",
   "execution_count": 60,
   "metadata": {
    "internals": {
     "frag_helper": "fragment_end",
     "frag_number": 16
    },
    "slideshow": {
     "slide_type": "-"
    }
   },
   "outputs": [],
   "source": [
    "from IPython.display import HTML,display\n",
    "\n",
    "s = \"\"\"<table>\n",
    "<tr>\n",
    "<th>Header 1</th>\n",
    "<th>Header 2</th>\n",
    "</tr>\n",
    "<tr>\n",
    "<td>row 1, cell 1</td>\n",
    "<td>row 1, cell 2</td>\n",
    "</tr>\n",
    "<tr>\n",
    "<td>row 2, cell 1</td>\n",
    "<td>row 2, cell 2</td>\n",
    "</tr>\n",
    "</table>\"\"\""
   ]
  },
  {
   "cell_type": "code",
   "execution_count": 61,
   "metadata": {
    "internals": {
     "frag_helper": "fragment_end",
     "frag_number": 16,
     "slide_helper": "subslide_end"
    },
    "slide_helper": "subslide_end",
    "slideshow": {
     "slide_type": "-"
    }
   },
   "outputs": [
    {
     "data": {
      "text/html": [
       "<table>\n",
       "<tr>\n",
       "<th>Header 1</th>\n",
       "<th>Header 2</th>\n",
       "</tr>\n",
       "<tr>\n",
       "<td>row 1, cell 1</td>\n",
       "<td>row 1, cell 2</td>\n",
       "</tr>\n",
       "<tr>\n",
       "<td>row 2, cell 1</td>\n",
       "<td>row 2, cell 2</td>\n",
       "</tr>\n",
       "</table>"
      ],
      "text/plain": [
       "<IPython.core.display.HTML object>"
      ]
     },
     "metadata": {},
     "output_type": "display_data"
    }
   ],
   "source": [
    "h = HTML(s)\n",
    "display(h)"
   ]
  },
  {
   "cell_type": "markdown",
   "metadata": {
    "internals": {
     "frag_helper": "fragment_end",
     "frag_number": 16,
     "slide_type": "subslide"
    },
    "slideshow": {
     "slide_type": "subslide"
    }
   },
   "source": [
    "* Websites:"
   ]
  },
  {
   "cell_type": "code",
   "execution_count": 62,
   "metadata": {
    "internals": {
     "frag_helper": "fragment_end",
     "frag_number": 16,
     "slide_helper": "subslide_end"
    },
    "slide_helper": "subslide_end",
    "slideshow": {
     "slide_type": "-"
    }
   },
   "outputs": [
    {
     "data": {
      "text/html": [
       "\n",
       "        <iframe\n",
       "            width=\"800\"\n",
       "            height=\"600\"\n",
       "            src=\"http://www.professeurs.polymtl.ca/giovanni.beltrame/\"\n",
       "            frameborder=\"0\"\n",
       "            allowfullscreen\n",
       "        ></iframe>\n",
       "        "
      ],
      "text/plain": [
       "<IPython.lib.display.IFrame at 0x7fe472f474e0>"
      ]
     },
     "execution_count": 62,
     "metadata": {},
     "output_type": "execute_result"
    }
   ],
   "source": [
    "from IPython.display import IFrame\n",
    "IFrame('http://www.professeurs.polymtl.ca/giovanni.beltrame/', 800, 600)"
   ]
  },
  {
   "cell_type": "markdown",
   "metadata": {
    "internals": {
     "frag_helper": "fragment_end",
     "frag_number": 16,
     "slide_type": "subslide"
    },
    "slideshow": {
     "slide_type": "subslide"
    }
   },
   "source": [
    "* Music:"
   ]
  },
  {
   "cell_type": "code",
   "execution_count": 63,
   "metadata": {
    "internals": {
     "frag_helper": "fragment_end",
     "frag_number": 16,
     "slide_helper": "subslide_end"
    },
    "slide_helper": "slide_end",
    "slideshow": {
     "slide_type": "-"
    }
   },
   "outputs": [
    {
     "data": {
      "text/html": [
       "<iframe width=\"100%\" height=\"166\" scrolling=\"no\" frameborder=\"no\" src=\"https://w.soundcloud.com/player/?url=http%3A%2F%2Fapi.soundcloud.com%2Ftracks%2F94543639\"></iframe>"
      ],
      "text/plain": [
       "<IPython.core.display.HTML object>"
      ]
     },
     "metadata": {},
     "output_type": "display_data"
    }
   ],
   "source": [
    "from IPython.display import HTML\n",
    "h = HTML(\"\"\"<iframe width=\"100%\" height=\"166\" scrolling=\"no\" frameborder=\"no\" src=\"https://w.soundcloud.com/player/?url=http%3A%2F%2Fapi.soundcloud.com%2Ftracks%2F94543639\"></iframe>\"\"\")\n",
    "display(h)"
   ]
  },
  {
   "cell_type": "markdown",
   "metadata": {
    "internals": {
     "frag_helper": "fragment_end",
     "frag_number": 16,
     "slide_type": "subslide"
    },
    "slideshow": {
     "slide_type": "slide"
    }
   },
   "source": [
    "## Loading Remote Code"
   ]
  },
  {
   "cell_type": "code",
   "execution_count": 64,
   "metadata": {
    "internals": {
     "frag_helper": "fragment_end",
     "frag_number": 16,
     "slide_helper": "subslide_end"
    },
    "slide_helper": "subslide_end",
    "slideshow": {
     "slide_type": "-"
    }
   },
   "outputs": [
    {
     "data": {
      "image/png": "[encoded data removed]",
      "text/plain": [
       "<Figure size 432x288 with 4 Axes>"
      ]
     },
     "metadata": {},
     "output_type": "display_data"
    }
   ],
   "source": [
    "# %load http://matplotlib.sourceforge.net/mpl_examples/api/collections_demo.py"
   ]
  },
  {
   "cell_type": "markdown",
   "metadata": {
    "internals": {
     "frag_helper": "fragment_end",
     "frag_number": 16,
     "slide_type": "subslide"
    },
    "slideshow": {
     "slide_type": "subslide"
    }
   },
   "source": [
    "## LaTeX Rendering:"
   ]
  },
  {
   "cell_type": "code",
   "execution_count": 36,
   "metadata": {
    "internals": {
     "frag_helper": "fragment_end",
     "frag_number": 16,
     "slide_helper": "subslide_end"
    },
    "slide_helper": "slide_end",
    "slideshow": {
     "slide_type": "-"
    }
   },
   "outputs": [
    {
     "data": {
      "text/latex": [
       "\\begin{eqnarray}\n",
       "\\nabla \\times \\vec{\\mathbf{B}} -\\, \\frac1c\\, \n",
       "\\frac{\\partial\\vec{\\mathbf{E}}}{\\partial t} & = \\frac{4\\pi}{c}\\vec{\\mathbf{j}} \\\\\n",
       "\\nabla \\cdot \\vec{\\mathbf{E}} & = 4 \\pi \\rho \\\\\n",
       "\\nabla \\times \\vec{\\mathbf{E}}\\, +\\, \\frac1c\\, \n",
       "\\frac{\\partial\\vec{\\mathbf{B}}}{\\partial t} & = \\vec{\\mathbf{0}} \\\\\n",
       "\\nabla \\cdot \\vec{\\mathbf{B}} & = 0 \n",
       "\\end{eqnarray}"
      ],
      "text/plain": [
       "<IPython.core.display.Latex object>"
      ]
     },
     "metadata": {},
     "output_type": "display_data"
    }
   ],
   "source": [
    "%%latex\n",
    "\\begin{eqnarray}\n",
    "\\nabla \\times \\vec{\\mathbf{B}} -\\, \\frac1c\\, \n",
    "\\frac{\\partial\\vec{\\mathbf{E}}}{\\partial t} & = \\frac{4\\pi}{c}\\vec{\\mathbf{j}} \\\\\n",
    "\\nabla \\cdot \\vec{\\mathbf{E}} & = 4 \\pi \\rho \\\\\n",
    "\\nabla \\times \\vec{\\mathbf{E}}\\, +\\, \\frac1c\\, \n",
    "\\frac{\\partial\\vec{\\mathbf{B}}}{\\partial t} & = \\vec{\\mathbf{0}} \\\\\n",
    "\\nabla \\cdot \\vec{\\mathbf{B}} & = 0 \n",
    "\\end{eqnarray}"
   ]
  },
  {
   "cell_type": "markdown",
   "metadata": {
    "internals": {
     "frag_helper": "fragment_end",
     "frag_number": 16,
     "slide_type": "subslide"
    },
    "slideshow": {
     "slide_type": "slide"
    }
   },
   "source": [
    "## Interactive Widgets"
   ]
  },
  {
   "cell_type": "code",
   "execution_count": 29,
   "metadata": {
    "internals": {
     "frag_helper": "fragment_end",
     "frag_number": 16
    },
    "slideshow": {
     "slide_type": "skip"
    }
   },
   "outputs": [
    {
     "name": "stderr",
     "output_type": "stream",
     "text": [
      "/usr/lib/python3.6/site-packages/IPython/html.py:14: ShimWarning: The `IPython.html` package has been deprecated since IPython 4.0. You should import from `notebook` instead. `IPython.html.widgets` has moved to `ipywidgets`.\n",
      "  \"`IPython.html.widgets` has moved to `ipywidgets`.\", ShimWarning)\n"
     ]
    }
   ],
   "source": [
    "from IPython.html.widgets import interact\n",
    "from IPython.display import display"
   ]
  },
  {
   "cell_type": "code",
   "execution_count": null,
   "metadata": {
    "internals": {
     "frag_helper": "fragment_end",
     "frag_number": 16
    },
    "slideshow": {
     "slide_type": "skip"
    }
   },
   "outputs": [],
   "source": [
    "from sympy import Symbol, Eq, factor, init_printing\n",
    "init_printing(use_latex='mathjax')"
   ]
  },
  {
   "cell_type": "code",
   "execution_count": null,
   "metadata": {
    "internals": {
     "frag_helper": "fragment_end",
     "frag_number": 16
    },
    "slideshow": {
     "slide_type": "skip"
    }
   },
   "outputs": [],
   "source": [
    "x = Symbol('x')"
   ]
  },
  {
   "cell_type": "code",
   "execution_count": 30,
   "metadata": {
    "internals": {
     "frag_helper": "fragment_end",
     "frag_number": 16
    },
    "slideshow": {
     "slide_type": "-"
    }
   },
   "outputs": [],
   "source": [
    "from IPython.html.widgets import interact\n",
    "from IPython.display import display\n",
    "\n",
    "from sympy import Symbol, Eq, factor, init_printing\n",
    "init_printing(use_latex='mathjax')\n",
    "\n",
    "x = Symbol('x')"
   ]
  },
  {
   "cell_type": "code",
   "execution_count": 31,
   "metadata": {
    "internals": {
     "frag_helper": "fragment_end",
     "frag_number": 96,
     "slide_helper": "subslide_end"
    },
    "slide_helper": "subslide_end",
    "slideshow": {
     "slide_type": "fragment"
    }
   },
   "outputs": [],
   "source": [
    "def factorit(n):\n",
    "    display(Eq(x**n-1, factor(x**n-1)))"
   ]
  },
  {
   "cell_type": "markdown",
   "metadata": {
    "internals": {
     "frag_helper": "fragment_end",
     "frag_number": 96,
     "slide_type": "subslide"
    },
    "slideshow": {
     "slide_type": "subslide"
    }
   },
   "source": [
    "Output is properly formatted LaTeX!"
   ]
  },
  {
   "cell_type": "code",
   "execution_count": 95,
   "metadata": {
    "internals": {
     "frag_helper": "fragment_end",
     "frag_number": 98
    },
    "slideshow": {
     "slide_type": "fragment"
    }
   },
   "outputs": [
    {
     "data": {
      "text/latex": [
       "$$x^{12} - 1 = \\left(x - 1\\right) \\left(x + 1\\right) \\left(x^{2} + 1\\right) \\left(x^{2} - x + 1\\right) \\left(x^{2} + x + 1\\right) \\left(x^{4} - x^{2} + 1\\right)$$"
      ],
      "text/plain": [
       " 12                       ⎛ 2    ⎞ ⎛ 2        ⎞ ⎛ 2        ⎞ ⎛ 4    2    ⎞\n",
       "x   - 1 = (x - 1)⋅(x + 1)⋅⎝x  + 1⎠⋅⎝x  - x + 1⎠⋅⎝x  + x + 1⎠⋅⎝x  - x  + 1⎠"
      ]
     },
     "metadata": {},
     "output_type": "display_data"
    }
   ],
   "source": [
    "factorit(12)"
   ]
  },
  {
   "cell_type": "code",
   "execution_count": 32,
   "metadata": {
    "internals": {
     "frag_helper": "fragment_end",
     "frag_number": 99,
     "slide_helper": "subslide_end"
    },
    "slide_helper": "subslide_end",
    "slideshow": {
     "slide_type": "fragment"
    }
   },
   "outputs": [
    {
     "data": {
      "application/vnd.jupyter.widget-view+json": {
       "model_id": "e19a42fb1e1a4bb68ccdfc76d48f5dc3",
       "version_major": 2,
       "version_minor": 0
      },
      "text/plain": [
       "interactive(children=(IntSlider(value=21, description='n', max=40, min=2), Output()), _dom_classes=('widget-in…"
      ]
     },
     "metadata": {},
     "output_type": "display_data"
    }
   ],
   "source": [
    "interact(factorit, n=(2,40));"
   ]
  },
  {
   "cell_type": "markdown",
   "metadata": {
    "internals": {
     "frag_helper": "fragment_end",
     "frag_number": 99,
     "slide_type": "subslide"
    },
    "slideshow": {
     "slide_type": "subslide"
    }
   },
   "source": [
    "## Pandas"
   ]
  },
  {
   "cell_type": "code",
   "execution_count": 35,
   "metadata": {
    "internals": {
     "frag_helper": "fragment_end",
     "frag_number": 99
    },
    "slideshow": {
     "slide_type": "-"
    }
   },
   "outputs": [],
   "source": [
    "import pandas\n",
    "pandas.set_option('display.notebook_repr_html', True)"
   ]
  },
  {
   "cell_type": "code",
   "execution_count": 33,
   "metadata": {
    "internals": {
     "frag_helper": "fragment_end",
     "frag_number": 99
    },
    "slideshow": {
     "slide_type": "-"
    }
   },
   "outputs": [
    {
     "name": "stdout",
     "output_type": "stream",
     "text": [
      "Overwriting data.csv\n"
     ]
    }
   ],
   "source": [
    "%%writefile data.csv\n",
    "Date,Open,High,Low,Close,Volume,Adj Close\n",
    "2012-06-01,569.16,590.00,548.50,584.00,14077000,581.50\n",
    "2012-05-01,584.90,596.76,522.18,577.73,18827900,575.26\n",
    "2012-04-02,601.83,644.00,555.00,583.98,28759100,581.48\n",
    "2012-03-01,548.17,621.45,516.22,599.55,26486000,596.99\n",
    "2012-02-01,458.41,547.61,453.98,542.44,22001000,540.12\n",
    "2012-01-03,409.40,458.24,409.00,456.48,12949100,454.53"
   ]
  },
  {
   "cell_type": "code",
   "execution_count": 36,
   "metadata": {
    "internals": {
     "frag_helper": "fragment_end",
     "frag_number": 99,
     "slide_helper": "subslide_end"
    },
    "slide_helper": "slide_end",
    "slideshow": {
     "slide_type": "-"
    }
   },
   "outputs": [
    {
     "data": {
      "text/html": [
       "<div>\n",
       "<style scoped>\n",
       "    .dataframe tbody tr th:only-of-type {\n",
       "        vertical-align: middle;\n",
       "    }\n",
       "\n",
       "    .dataframe tbody tr th {\n",
       "        vertical-align: top;\n",
       "    }\n",
       "\n",
       "    .dataframe thead th {\n",
       "        text-align: right;\n",
       "    }\n",
       "</style>\n",
       "<table border=\"1\" class=\"dataframe\">\n",
       "  <thead>\n",
       "    <tr style=\"text-align: right;\">\n",
       "      <th></th>\n",
       "      <th>Date</th>\n",
       "      <th>Open</th>\n",
       "      <th>High</th>\n",
       "      <th>Low</th>\n",
       "      <th>Close</th>\n",
       "      <th>Volume</th>\n",
       "      <th>Adj Close</th>\n",
       "    </tr>\n",
       "  </thead>\n",
       "  <tbody>\n",
       "    <tr>\n",
       "      <th>0</th>\n",
       "      <td>2012-06-01</td>\n",
       "      <td>569.16</td>\n",
       "      <td>590.00</td>\n",
       "      <td>548.50</td>\n",
       "      <td>584.00</td>\n",
       "      <td>14077000</td>\n",
       "      <td>581.50</td>\n",
       "    </tr>\n",
       "    <tr>\n",
       "      <th>1</th>\n",
       "      <td>2012-05-01</td>\n",
       "      <td>584.90</td>\n",
       "      <td>596.76</td>\n",
       "      <td>522.18</td>\n",
       "      <td>577.73</td>\n",
       "      <td>18827900</td>\n",
       "      <td>575.26</td>\n",
       "    </tr>\n",
       "    <tr>\n",
       "      <th>2</th>\n",
       "      <td>2012-04-02</td>\n",
       "      <td>601.83</td>\n",
       "      <td>644.00</td>\n",
       "      <td>555.00</td>\n",
       "      <td>583.98</td>\n",
       "      <td>28759100</td>\n",
       "      <td>581.48</td>\n",
       "    </tr>\n",
       "    <tr>\n",
       "      <th>3</th>\n",
       "      <td>2012-03-01</td>\n",
       "      <td>548.17</td>\n",
       "      <td>621.45</td>\n",
       "      <td>516.22</td>\n",
       "      <td>599.55</td>\n",
       "      <td>26486000</td>\n",
       "      <td>596.99</td>\n",
       "    </tr>\n",
       "    <tr>\n",
       "      <th>4</th>\n",
       "      <td>2012-02-01</td>\n",
       "      <td>458.41</td>\n",
       "      <td>547.61</td>\n",
       "      <td>453.98</td>\n",
       "      <td>542.44</td>\n",
       "      <td>22001000</td>\n",
       "      <td>540.12</td>\n",
       "    </tr>\n",
       "    <tr>\n",
       "      <th>5</th>\n",
       "      <td>2012-01-03</td>\n",
       "      <td>409.40</td>\n",
       "      <td>458.24</td>\n",
       "      <td>409.00</td>\n",
       "      <td>456.48</td>\n",
       "      <td>12949100</td>\n",
       "      <td>454.53</td>\n",
       "    </tr>\n",
       "  </tbody>\n",
       "</table>\n",
       "</div>"
      ],
      "text/plain": [
       "         Date    Open    High     Low   Close    Volume  Adj Close\n",
       "0  2012-06-01  569.16  590.00  548.50  584.00  14077000     581.50\n",
       "1  2012-05-01  584.90  596.76  522.18  577.73  18827900     575.26\n",
       "2  2012-04-02  601.83  644.00  555.00  583.98  28759100     581.48\n",
       "3  2012-03-01  548.17  621.45  516.22  599.55  26486000     596.99\n",
       "4  2012-02-01  458.41  547.61  453.98  542.44  22001000     540.12\n",
       "5  2012-01-03  409.40  458.24  409.00  456.48  12949100     454.53"
      ]
     },
     "execution_count": 36,
     "metadata": {},
     "output_type": "execute_result"
    }
   ],
   "source": [
    "df = pandas.read_csv('data.csv')\n",
    "df"
   ]
  },
  {
   "cell_type": "markdown",
   "metadata": {
    "internals": {
     "frag_helper": "fragment_end",
     "frag_number": 99,
     "slide_type": "subslide"
    },
    "slideshow": {
     "slide_type": "slide"
    }
   },
   "source": [
    "## The IPython kernel/client model"
   ]
  },
  {
   "cell_type": "code",
   "execution_count": 72,
   "metadata": {
    "internals": {
     "frag_helper": "fragment_end",
     "frag_number": 99
    },
    "slideshow": {
     "slide_type": "-"
    }
   },
   "outputs": [
    {
     "name": "stdout",
     "output_type": "stream",
     "text": [
      "{\n",
      "  \"shell_port\": 42853,\n",
      "  \"iopub_port\": 51145,\n",
      "  \"stdin_port\": 58269,\n",
      "  \"control_port\": 49277,\n",
      "  \"hb_port\": 50657,\n",
      "  \"ip\": \"127.0.0.1\",\n",
      "  \"key\": \"ec33d0d7-a39db02f8bd5be53c61bb3c3\",\n",
      "  \"transport\": \"tcp\",\n",
      "  \"signature_scheme\": \"hmac-sha256\",\n",
      "  \"kernel_name\": \"\"\n",
      "}\n",
      "\n",
      "Paste the above JSON into a file, and connect with:\n",
      "    $> jupyter <app> --existing <file>\n",
      "or, if you are local, you can connect with just:\n",
      "    $> jupyter <app> --existing kernel-a15eccd7-b393-4d1f-ac6c-82e133e2c2f0.json\n",
      "or even just:\n",
      "    $> jupyter <app> --existing\n",
      "if this is the most recent Jupyter kernel you have started.\n"
     ]
    }
   ],
   "source": [
    "%connect_info"
   ]
  },
  {
   "cell_type": "code",
   "execution_count": 37,
   "metadata": {
    "internals": {
     "frag_helper": "fragment_end",
     "frag_number": 99,
     "slide_helper": "subslide_end"
    },
    "slide_helper": "slide_end",
    "slideshow": {
     "slide_type": "-"
    }
   },
   "outputs": [],
   "source": [
    "%qtconsole"
   ]
  },
  {
   "cell_type": "markdown",
   "metadata": {
    "internals": {
     "frag_helper": "fragment_end",
     "frag_number": 99,
     "slide_type": "subslide"
    },
    "slideshow": {
     "slide_type": "slide"
    }
   },
   "source": [
    "# 4. `nbconvert`"
   ]
  },
  {
   "cell_type": "markdown",
   "metadata": {
    "internals": {
     "frag_helper": "fragment_end",
     "frag_number": 99
    },
    "slideshow": {
     "slide_type": "-"
    }
   },
   "source": [
    "## Introduction"
   ]
  },
  {
   "cell_type": "markdown",
   "metadata": {
    "internals": {
     "frag_helper": "fragment_end",
     "frag_number": 99,
     "slide_helper": "subslide_end"
    },
    "slide_helper": "subslide_end",
    "slideshow": {
     "slide_type": "-"
    }
   },
   "source": [
    "* `NBConvert` is a library that allows to *nbconvert* notebooks in other formats like: `html`, `latex`, `markdown`, `python`, `rst` and  `slides`.\n",
    "\n",
    "* This library is based on Jinja `templates`, that one add or modify without too much trouble"
   ]
  },
  {
   "cell_type": "markdown",
   "metadata": {
    "internals": {
     "frag_helper": "fragment_end",
     "frag_number": 99,
     "slide_type": "subslide"
    },
    "slideshow": {
     "slide_type": "subslide"
    }
   },
   "source": [
    "From the command line:\n",
    "\n",
    "`$ ipython nbconvert <options and arguments>`\n",
    "\n",
    "To get help: \n",
    "\n",
    "`$ ipython nbconvert --help` (or `--help-all` for more details)."
   ]
  },
  {
   "cell_type": "code",
   "execution_count": 47,
   "metadata": {
    "internals": {
     "frag_helper": "fragment_end",
     "frag_number": 99,
     "slide_helper": "subslide_end"
    },
    "slide_helper": "subslide_end",
    "slideshow": {
     "slide_type": "-"
    }
   },
   "outputs": [
    {
     "name": "stderr",
     "output_type": "stream",
     "text": [
      "[NbConvertApp] Converting notebook IPython_Workshop.ipynb to html\n",
      "[NbConvertApp] Writing 421598 bytes to IPython_Workshop.html\n"
     ]
    }
   ],
   "source": [
    "%%bash\n",
    "jupyter nbconvert  IPython_Workshop.ipynb --to html"
   ]
  },
  {
   "cell_type": "markdown",
   "metadata": {
    "internals": {
     "frag_helper": "fragment_end",
     "frag_number": 99,
     "slide_type": "subslide"
    },
    "slideshow": {
     "slide_type": "subslide"
    }
   },
   "source": [
    "## Slides"
   ]
  },
  {
   "cell_type": "markdown",
   "metadata": {
    "internals": {
     "frag_helper": "fragment_end",
     "frag_number": 99
    },
    "slideshow": {
     "slide_type": "-"
    }
   },
   "source": [
    "This nbconverter generates and HTML presentation based on Reveal.js\n",
    "\n",
    "* Slides (horizontal).\n",
    "* Subslides (vertical).\n",
    "* Fragments.\n",
    "* Transitions.\n",
    "* Themes.\n",
    "* Notes.\n",
    "* PDF export."
   ]
  },
  {
   "cell_type": "code",
   "execution_count": null,
   "metadata": {
    "internals": {
     "frag_helper": "fragment_end",
     "frag_number": 99
    },
    "slideshow": {
     "slide_type": "-"
    }
   },
   "outputs": [],
   "source": [
    "import subprocess\n",
    "\n",
    "command = \"ipython nbconvert IPython_Workshop.ipynb --to slides --post serve\"\n",
    "subprocess.Popen(command.split())"
   ]
  },
  {
   "cell_type": "markdown",
   "metadata": {
    "internals": {
     "frag_helper": "fragment_end",
     "frag_number": 99,
     "slide_helper": "subslide_end"
    },
    "slide_helper": "slide_end",
    "slideshow": {
     "slide_type": "-"
    }
   },
   "source": [
    "More info: [http://www.damian.oquanta.info/categories/reveal.html](http://www.damian.oquanta.info/categories/reveal.html)"
   ]
  },
  {
   "cell_type": "markdown",
   "metadata": {
    "internals": {
     "frag_helper": "fragment_end",
     "frag_number": 99,
     "slide_type": "subslide"
    },
    "slideshow": {
     "slide_type": "slide"
    }
   },
   "source": [
    "# 5. Discussion"
   ]
  },
  {
   "cell_type": "markdown",
   "metadata": {
    "internals": {
     "frag_helper": "fragment_end",
     "frag_number": 99
    },
    "slideshow": {
     "slide_type": "-"
    }
   },
   "source": [
    "IPython Notebook provides the tools needed for:"
   ]
  },
  {
   "cell_type": "markdown",
   "metadata": {
    "internals": {
     "frag_helper": "fragment_end",
     "frag_number": 118
    },
    "slideshow": {
     "slide_type": "fragment"
    }
   },
   "source": [
    "1- Obtaining **data**."
   ]
  },
  {
   "cell_type": "markdown",
   "metadata": {
    "internals": {
     "frag_helper": "fragment_end",
     "frag_number": 119
    },
    "slideshow": {
     "slide_type": "fragment"
    }
   },
   "source": [
    "2- **Process** these data"
   ]
  },
  {
   "cell_type": "markdown",
   "metadata": {
    "internals": {
     "frag_helper": "fragment_end",
     "frag_number": 120
    },
    "slideshow": {
     "slide_type": "fragment"
    }
   },
   "source": [
    "3- **Visualize** the processed data"
   ]
  },
  {
   "cell_type": "markdown",
   "metadata": {
    "internals": {
     "frag_helper": "fragment_end",
     "frag_number": 121
    },
    "slideshow": {
     "slide_type": "fragment"
    }
   },
   "source": [
    "4- **Assemble** a **story** that is **substantiated** by the analyzed data"
   ]
  },
  {
   "cell_type": "markdown",
   "metadata": {
    "internals": {
     "frag_helper": "fragment_end",
     "frag_number": 122,
     "slide_helper": "subslide_end"
    },
    "slide_helper": "subslide_end",
    "slideshow": {
     "slide_type": "fragment"
    }
   },
   "source": [
    "5- **Communicate** said **story**, together with **data** and **visualizations**"
   ]
  },
  {
   "cell_type": "markdown",
   "metadata": {
    "internals": {
     "frag_helper": "fragment_end",
     "frag_number": 122,
     "slide_type": "subslide"
    },
    "slideshow": {
     "slide_type": "subslide"
    }
   },
   "source": [
    "# 6. Future development"
   ]
  },
  {
   "cell_type": "markdown",
   "metadata": {
    "internals": {
     "frag_helper": "fragment_end",
     "frag_number": 122,
     "slide_helper": "subslide_end"
    },
    "slide_helper": "slide_end",
    "slideshow": {
     "slide_type": "-"
    }
   },
   "source": [
    "Jupyter is still in development\n",
    "\n",
    "[https://github.com/jupyter/roadmap](https://github.com/jupyter/roadmap)\n",
    "\n",
    "* Multiuser (JupyterHub)\n",
    "* Development environment (JupyterLab)\n",
    "* Interactive widgets (js)\n",
    "* Better export (nbconvert)\n",
    "* Presentation mode\n",
    "\n",
    "Check out the Jupyter notebook library!\n",
    "\n",
    "[https://github.com/jupyter/jupyter/wiki/A-gallery-of-interesting-Jupyter-Notebooks](https://github.com/jupyter/jupyter/wiki/A-gallery-of-interesting-Jupyter-Notebooks)"
   ]
  },
  {
   "cell_type": "markdown",
   "metadata": {
    "internals": {
     "frag_helper": "fragment_end",
     "frag_number": 122,
     "slide_type": "subslide"
    },
    "slideshow": {
     "slide_type": "slide"
    }
   },
   "source": [
    "# 7. Today's Tutorials"
   ]
  },
  {
   "cell_type": "markdown",
   "metadata": {
    "internals": {
     "frag_helper": "fragment_end",
     "frag_number": 122,
     "slide_helper": "subslide_end"
    },
    "slide_helper": "slide_end",
    "slideshow": {
     "slide_type": "-"
    }
   },
   "source": [
    "* [Notebook basics](content/NotebookBasics.ipynb)\n",
    "* [Plotting](content/Plotting.ipynb)\n",
    "* [Interactive Widgets](content/InteractiveWidgets.ipynb)\n",
    "* [Data Analysis](content/DataAnalysis.ipynb)\n",
    "* [Challenge](http://nbviewer.ipython.org/github/mistlab/NotebookTutorial/blob/master/content/Challenge.ipynb)"
   ]
  }
 ],
 "metadata": {
  "celltoolbar": "Slideshow",
  "kernelspec": {
   "display_name": "Python 3",
   "language": "python",
   "name": "python3"
  },
  "language_info": {
   "codemirror_mode": {
    "name": "ipython",
    "version": 3
   },
   "file_extension": ".py",
   "mimetype": "text/x-python",
   "name": "python",
   "nbconvert_exporter": "python",
   "pygments_lexer": "ipython3",
   "version": "3.6.5"
  },
  "livereveal": {
   "autolaunch": true
  }
 },
 "nbformat": 4,
 "nbformat_minor": 1
}
